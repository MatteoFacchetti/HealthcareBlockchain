{
 "cells": [
  {
   "cell_type": "code",
   "execution_count": 1,
   "metadata": {},
   "outputs": [
    {
     "name": "stdout",
     "output_type": "stream",
     "text": [
      "/home/matteo/PycharmProjects/HealthcareBlockchain/src\n"
     ]
    }
   ],
   "source": [
    "cd ../src"
   ]
  },
  {
   "cell_type": "code",
   "execution_count": 2,
   "metadata": {},
   "outputs": [],
   "source": [
    "from patient import Patient\n",
    "from event import Event, count_events, add_incompatibilities\n",
    "from doctor import Doctor"
   ]
  },
  {
   "cell_type": "code",
   "execution_count": 3,
   "metadata": {},
   "outputs": [],
   "source": [
    "Ann = Patient(\"CMVANN67T06M088Q\")\n",
    "celiac = Event(\"disease\", \"celiac\", loc=locals())\n",
    "diabetes = Event(\"disease\", \"diabetes\", loc=locals())\n",
    "Bob = Doctor(\"DoctorBob\")"
   ]
  },
  {
   "cell_type": "code",
   "execution_count": 4,
   "metadata": {},
   "outputs": [],
   "source": [
    "incomp = [\"celiac\", \"diabetes\"]\n",
    "sugar_drug = Event(\"prescription\", \"sugar_drug\", loc=locals(), incompatibilities=incomp)"
   ]
  },
  {
   "cell_type": "code",
   "execution_count": 6,
   "metadata": {},
   "outputs": [
    {
     "data": {
      "text/plain": [
       "3"
      ]
     },
     "execution_count": 6,
     "metadata": {},
     "output_type": "execute_result"
    }
   ],
   "source": [
    "count_events(locals())[0]"
   ]
  },
  {
   "cell_type": "code",
   "execution_count": 5,
   "metadata": {},
   "outputs": [],
   "source": [
    "add_incompatibilities(sugar_drug, incomp, locals())"
   ]
  },
  {
   "cell_type": "code",
   "execution_count": 5,
   "metadata": {},
   "outputs": [
    {
     "data": {
      "text/plain": [
       "[]"
      ]
     },
     "execution_count": 5,
     "metadata": {},
     "output_type": "execute_result"
    }
   ],
   "source": [
    "diabetes.incompatibilities"
   ]
  },
  {
   "cell_type": "code",
   "execution_count": 12,
   "metadata": {},
   "outputs": [
    {
     "data": {
      "text/plain": [
       "dict"
      ]
     },
     "execution_count": 12,
     "metadata": {},
     "output_type": "execute_result"
    }
   ],
   "source": [
    "type(locals())"
   ]
  },
  {
   "cell_type": "code",
   "execution_count": 6,
   "metadata": {},
   "outputs": [],
   "source": [
    "locals()[\"celiac\"].add_incompatibility(\"prova\")"
   ]
  },
  {
   "cell_type": "code",
   "execution_count": 9,
   "metadata": {},
   "outputs": [],
   "source": [
    "count, events = count_events()"
   ]
  },
  {
   "cell_type": "code",
   "execution_count": 11,
   "metadata": {},
   "outputs": [],
   "source": [
    "total_locals = locals().copy()"
   ]
  },
  {
   "cell_type": "code",
   "execution_count": 15,
   "metadata": {},
   "outputs": [],
   "source": [
    "for local in total_locals:\n",
    "    try:\n",
    "        if locals()[local].player == \"event\":\n",
    "            events.append(local)\n",
    "    except:\n",
    "        continue"
   ]
  },
  {
   "cell_type": "code",
   "execution_count": 16,
   "metadata": {},
   "outputs": [
    {
     "data": {
      "text/plain": [
       "['celiac', 'sugar_drug', '_5']"
      ]
     },
     "execution_count": 16,
     "metadata": {},
     "output_type": "execute_result"
    }
   ],
   "source": [
    "events"
   ]
  },
  {
   "cell_type": "code",
   "execution_count": null,
   "metadata": {},
   "outputs": [],
   "source": [
    "for incompatibility in [\"ciao\", \"bello\"]:\n",
    "    for i in events:\n",
    "        if i == incompatibility:\n",
    "            locals()[i].add_incompatibility(incompatibility)"
   ]
  },
  {
   "cell_type": "code",
   "execution_count": 4,
   "metadata": {},
   "outputs": [],
   "source": [
    "Bob.add_event(celiac, Ann)"
   ]
  },
  {
   "cell_type": "code",
   "execution_count": 9,
   "metadata": {},
   "outputs": [
    {
     "data": {
      "text/html": [
       "<div>\n",
       "<style scoped>\n",
       "    .dataframe tbody tr th:only-of-type {\n",
       "        vertical-align: middle;\n",
       "    }\n",
       "\n",
       "    .dataframe tbody tr th {\n",
       "        vertical-align: top;\n",
       "    }\n",
       "\n",
       "    .dataframe thead th {\n",
       "        text-align: right;\n",
       "    }\n",
       "</style>\n",
       "<table border=\"1\" class=\"dataframe\">\n",
       "  <thead>\n",
       "    <tr style=\"text-align: right;\">\n",
       "      <th></th>\n",
       "      <th>Name</th>\n",
       "      <th>Patient</th>\n",
       "      <th>Timestamp</th>\n",
       "      <th>Event</th>\n",
       "      <th>Kind</th>\n",
       "      <th>Previous hash</th>\n",
       "      <th>Hash</th>\n",
       "    </tr>\n",
       "    <tr>\n",
       "      <th>Index</th>\n",
       "      <th></th>\n",
       "      <th></th>\n",
       "      <th></th>\n",
       "      <th></th>\n",
       "      <th></th>\n",
       "      <th></th>\n",
       "      <th></th>\n",
       "    </tr>\n",
       "  </thead>\n",
       "  <tbody>\n",
       "    <tr>\n",
       "      <td>0</td>\n",
       "      <td>DoctorBob</td>\n",
       "      <td>None</td>\n",
       "      <td>2019-12-08 10:31:05.603362</td>\n",
       "      <td>None</td>\n",
       "      <td>None</td>\n",
       "      <td>0000000000000000000000000000000000000000000000...</td>\n",
       "      <td>d5ab2de631d02654b52e4869e81fda3bbe4726c9abecc8...</td>\n",
       "    </tr>\n",
       "    <tr>\n",
       "      <td>1</td>\n",
       "      <td>DoctorBob</td>\n",
       "      <td>CMVANN67T06M088Q</td>\n",
       "      <td>2019-12-08 10:31:05.983349</td>\n",
       "      <td>disease</td>\n",
       "      <td>celiac</td>\n",
       "      <td>d5ab2de631d02654b52e4869e81fda3bbe4726c9abecc8...</td>\n",
       "      <td>43a7f54783e86e2cafc7fb8df62a4e345d19f2598c9f67...</td>\n",
       "    </tr>\n",
       "  </tbody>\n",
       "</table>\n",
       "</div>"
      ],
      "text/plain": [
       "            Name           Patient                  Timestamp    Event  \\\n",
       "Index                                                                    \n",
       "0      DoctorBob              None 2019-12-08 10:31:05.603362     None   \n",
       "1      DoctorBob  CMVANN67T06M088Q 2019-12-08 10:31:05.983349  disease   \n",
       "\n",
       "         Kind                                      Previous hash  \\\n",
       "Index                                                              \n",
       "0        None  0000000000000000000000000000000000000000000000...   \n",
       "1      celiac  d5ab2de631d02654b52e4869e81fda3bbe4726c9abecc8...   \n",
       "\n",
       "                                                    Hash  \n",
       "Index                                                     \n",
       "0      d5ab2de631d02654b52e4869e81fda3bbe4726c9abecc8...  \n",
       "1      43a7f54783e86e2cafc7fb8df62a4e345d19f2598c9f67...  "
      ]
     },
     "execution_count": 9,
     "metadata": {},
     "output_type": "execute_result"
    }
   ],
   "source": [
    "Bob.get_chain()"
   ]
  },
  {
   "cell_type": "code",
   "execution_count": 16,
   "metadata": {},
   "outputs": [
    {
     "data": {
      "text/plain": [
       "{'__name__': '__main__',\n",
       " '__doc__': 'Automatically created module for IPython interactive environment',\n",
       " '__package__': None,\n",
       " '__loader__': None,\n",
       " '__spec__': None,\n",
       " '__builtin__': <module 'builtins' (built-in)>,\n",
       " '__builtins__': <module 'builtins' (built-in)>,\n",
       " '_ih': ['',\n",
       "  \"get_ipython().run_line_magic('cd', '../src')\",\n",
       "  'from patient import Patient\\nfrom event import Event\\nfrom doctor import Doctor',\n",
       "  'Ann = Patient(\"CMVANN67T06M088Q\")\\nceliac = Event(\"disease\", \"celiac\")\\nBob = Doctor(\"DoctorBob\")',\n",
       "  'Bob.add_event(celiac, Ann)',\n",
       "  'Bob.name',\n",
       "  'Ann.get_block(1)',\n",
       "  'celiac.get_block(1)',\n",
       "  'Bob.get_block(1)',\n",
       "  'Bob.get_chain()',\n",
       "  'locals()',\n",
       "  'locals().Ann',\n",
       "  'locals()[\"Ann\"]',\n",
       "  'locals()[\"Ann\"].name',\n",
       "  'locals()',\n",
       "  'len(locals())',\n",
       "  'locals()'],\n",
       " '_oh': {5: 'DoctorBob',\n",
       "  6:                                                    Block summary\n",
       "  Index                                                          1\n",
       "  Name                                            CMVANN67T06M088Q\n",
       "  Doctor                                                 DoctorBob\n",
       "  Timestamp                             2019-12-08 10:31:05.983333\n",
       "  Event                                                    disease\n",
       "  Kind                                                      celiac\n",
       "  Previous hash  c9f95d25689f317ea2b4dbfa842313ad9c7a882dc8d3ed...\n",
       "  Hash           0b4a355eae92c1feab61ae6c31fe9f2178773828980d68...,\n",
       "  7:                                                    Block summary\n",
       "  Index                                                          1\n",
       "  Name                                                      celiac\n",
       "  Doctor                                                 DoctorBob\n",
       "  Timestamp                             2019-12-08 10:31:05.983296\n",
       "  Patient                                         CMVANN67T06M088Q\n",
       "  Previous hash  813815e17614f8868fae8450ba915368409cecb79d9d8d...\n",
       "  Hash           bb82c52b42fc40bb0e97bef7cd19a50abda610a89a1e3a...,\n",
       "  8:                                                    Block summary\n",
       "  Index                                                          1\n",
       "  Name                                                   DoctorBob\n",
       "  Patient                                         CMVANN67T06M088Q\n",
       "  Timestamp                             2019-12-08 10:31:05.983349\n",
       "  Event                                                    disease\n",
       "  Kind                                                      celiac\n",
       "  Previous hash  d5ab2de631d02654b52e4869e81fda3bbe4726c9abecc8...\n",
       "  Hash           43a7f54783e86e2cafc7fb8df62a4e345d19f2598c9f67...,\n",
       "  9:             Name           Patient                  Timestamp    Event  \\\n",
       "  Index                                                                    \n",
       "  0      DoctorBob              None 2019-12-08 10:31:05.603362     None   \n",
       "  1      DoctorBob  CMVANN67T06M088Q 2019-12-08 10:31:05.983349  disease   \n",
       "  \n",
       "           Kind                                      Previous hash  \\\n",
       "  Index                                                              \n",
       "  0        None  0000000000000000000000000000000000000000000000...   \n",
       "  1      celiac  d5ab2de631d02654b52e4869e81fda3bbe4726c9abecc8...   \n",
       "  \n",
       "                                                      Hash  \n",
       "  Index                                                     \n",
       "  0      d5ab2de631d02654b52e4869e81fda3bbe4726c9abecc8...  \n",
       "  1      43a7f54783e86e2cafc7fb8df62a4e345d19f2598c9f67...  ,\n",
       "  10: {...},\n",
       "  12: <patient.Patient at 0x7f954dd4c610>,\n",
       "  13: 'CMVANN67T06M088Q',\n",
       "  14: {...},\n",
       "  15: 51},\n",
       " '_dh': ['/home/matteo/PycharmProjects/HealthcareBlockchain/notebooks',\n",
       "  '/home/matteo/PycharmProjects/HealthcareBlockchain/src'],\n",
       " 'In': ['',\n",
       "  \"get_ipython().run_line_magic('cd', '../src')\",\n",
       "  'from patient import Patient\\nfrom event import Event\\nfrom doctor import Doctor',\n",
       "  'Ann = Patient(\"CMVANN67T06M088Q\")\\nceliac = Event(\"disease\", \"celiac\")\\nBob = Doctor(\"DoctorBob\")',\n",
       "  'Bob.add_event(celiac, Ann)',\n",
       "  'Bob.name',\n",
       "  'Ann.get_block(1)',\n",
       "  'celiac.get_block(1)',\n",
       "  'Bob.get_block(1)',\n",
       "  'Bob.get_chain()',\n",
       "  'locals()',\n",
       "  'locals().Ann',\n",
       "  'locals()[\"Ann\"]',\n",
       "  'locals()[\"Ann\"].name',\n",
       "  'locals()',\n",
       "  'len(locals())',\n",
       "  'locals()'],\n",
       " 'Out': {5: 'DoctorBob',\n",
       "  6:                                                    Block summary\n",
       "  Index                                                          1\n",
       "  Name                                            CMVANN67T06M088Q\n",
       "  Doctor                                                 DoctorBob\n",
       "  Timestamp                             2019-12-08 10:31:05.983333\n",
       "  Event                                                    disease\n",
       "  Kind                                                      celiac\n",
       "  Previous hash  c9f95d25689f317ea2b4dbfa842313ad9c7a882dc8d3ed...\n",
       "  Hash           0b4a355eae92c1feab61ae6c31fe9f2178773828980d68...,\n",
       "  7:                                                    Block summary\n",
       "  Index                                                          1\n",
       "  Name                                                      celiac\n",
       "  Doctor                                                 DoctorBob\n",
       "  Timestamp                             2019-12-08 10:31:05.983296\n",
       "  Patient                                         CMVANN67T06M088Q\n",
       "  Previous hash  813815e17614f8868fae8450ba915368409cecb79d9d8d...\n",
       "  Hash           bb82c52b42fc40bb0e97bef7cd19a50abda610a89a1e3a...,\n",
       "  8:                                                    Block summary\n",
       "  Index                                                          1\n",
       "  Name                                                   DoctorBob\n",
       "  Patient                                         CMVANN67T06M088Q\n",
       "  Timestamp                             2019-12-08 10:31:05.983349\n",
       "  Event                                                    disease\n",
       "  Kind                                                      celiac\n",
       "  Previous hash  d5ab2de631d02654b52e4869e81fda3bbe4726c9abecc8...\n",
       "  Hash           43a7f54783e86e2cafc7fb8df62a4e345d19f2598c9f67...,\n",
       "  9:             Name           Patient                  Timestamp    Event  \\\n",
       "  Index                                                                    \n",
       "  0      DoctorBob              None 2019-12-08 10:31:05.603362     None   \n",
       "  1      DoctorBob  CMVANN67T06M088Q 2019-12-08 10:31:05.983349  disease   \n",
       "  \n",
       "           Kind                                      Previous hash  \\\n",
       "  Index                                                              \n",
       "  0        None  0000000000000000000000000000000000000000000000...   \n",
       "  1      celiac  d5ab2de631d02654b52e4869e81fda3bbe4726c9abecc8...   \n",
       "  \n",
       "                                                      Hash  \n",
       "  Index                                                     \n",
       "  0      d5ab2de631d02654b52e4869e81fda3bbe4726c9abecc8...  \n",
       "  1      43a7f54783e86e2cafc7fb8df62a4e345d19f2598c9f67...  ,\n",
       "  10: {...},\n",
       "  12: <patient.Patient at 0x7f954dd4c610>,\n",
       "  13: 'CMVANN67T06M088Q',\n",
       "  14: {...},\n",
       "  15: 51},\n",
       " 'get_ipython': <bound method InteractiveShell.get_ipython of <ipykernel.zmqshell.ZMQInteractiveShell object at 0x7f9579b73550>>,\n",
       " 'exit': <IPython.core.autocall.ZMQExitAutocall at 0x7f9579b8ca50>,\n",
       " 'quit': <IPython.core.autocall.ZMQExitAutocall at 0x7f9579b8ca50>,\n",
       " '_': 51,\n",
       " '__': {...},\n",
       " '___': 'CMVANN67T06M088Q',\n",
       " '_i': 'len(locals())',\n",
       " '_ii': 'locals()',\n",
       " '_iii': 'locals()[\"Ann\"].name',\n",
       " '_i1': 'cd ../src',\n",
       " '_i2': 'from patient import Patient\\nfrom event import Event\\nfrom doctor import Doctor',\n",
       " 'Patient': patient.Patient,\n",
       " 'Event': event.Event,\n",
       " 'Doctor': doctor.Doctor,\n",
       " '_i3': 'Ann = Patient(\"CMVANN67T06M088Q\")\\nceliac = Event(\"disease\", \"celiac\")\\nBob = Doctor(\"DoctorBob\")',\n",
       " 'Ann': <patient.Patient at 0x7f954dd4c610>,\n",
       " 'celiac': <event.Event at 0x7f954dd4c5d0>,\n",
       " 'Bob': <doctor.Doctor at 0x7f954dd4c6d0>,\n",
       " '_i4': 'Bob.add_event(celiac, Ann)',\n",
       " '_i5': 'Bob.name',\n",
       " '_5': 'DoctorBob',\n",
       " '_i6': 'Ann.get_block(1)',\n",
       " '_6':                                                    Block summary\n",
       " Index                                                          1\n",
       " Name                                            CMVANN67T06M088Q\n",
       " Doctor                                                 DoctorBob\n",
       " Timestamp                             2019-12-08 10:31:05.983333\n",
       " Event                                                    disease\n",
       " Kind                                                      celiac\n",
       " Previous hash  c9f95d25689f317ea2b4dbfa842313ad9c7a882dc8d3ed...\n",
       " Hash           0b4a355eae92c1feab61ae6c31fe9f2178773828980d68...,\n",
       " '_i7': 'celiac.get_block(1)',\n",
       " '_7':                                                    Block summary\n",
       " Index                                                          1\n",
       " Name                                                      celiac\n",
       " Doctor                                                 DoctorBob\n",
       " Timestamp                             2019-12-08 10:31:05.983296\n",
       " Patient                                         CMVANN67T06M088Q\n",
       " Previous hash  813815e17614f8868fae8450ba915368409cecb79d9d8d...\n",
       " Hash           bb82c52b42fc40bb0e97bef7cd19a50abda610a89a1e3a...,\n",
       " '_i8': 'Bob.get_block(1)',\n",
       " '_8':                                                    Block summary\n",
       " Index                                                          1\n",
       " Name                                                   DoctorBob\n",
       " Patient                                         CMVANN67T06M088Q\n",
       " Timestamp                             2019-12-08 10:31:05.983349\n",
       " Event                                                    disease\n",
       " Kind                                                      celiac\n",
       " Previous hash  d5ab2de631d02654b52e4869e81fda3bbe4726c9abecc8...\n",
       " Hash           43a7f54783e86e2cafc7fb8df62a4e345d19f2598c9f67...,\n",
       " '_i9': 'Bob.get_chain()',\n",
       " '_9':             Name           Patient                  Timestamp    Event  \\\n",
       " Index                                                                    \n",
       " 0      DoctorBob              None 2019-12-08 10:31:05.603362     None   \n",
       " 1      DoctorBob  CMVANN67T06M088Q 2019-12-08 10:31:05.983349  disease   \n",
       " \n",
       "          Kind                                      Previous hash  \\\n",
       " Index                                                              \n",
       " 0        None  0000000000000000000000000000000000000000000000...   \n",
       " 1      celiac  d5ab2de631d02654b52e4869e81fda3bbe4726c9abecc8...   \n",
       " \n",
       "                                                     Hash  \n",
       " Index                                                     \n",
       " 0      d5ab2de631d02654b52e4869e81fda3bbe4726c9abecc8...  \n",
       " 1      43a7f54783e86e2cafc7fb8df62a4e345d19f2598c9f67...  ,\n",
       " '_i10': 'locals()',\n",
       " '_10': {...},\n",
       " '_i11': 'locals().Ann',\n",
       " '_i12': 'locals()[\"Ann\"]',\n",
       " '_12': <patient.Patient at 0x7f954dd4c610>,\n",
       " '_i13': 'locals()[\"Ann\"].name',\n",
       " '_13': 'CMVANN67T06M088Q',\n",
       " '_i14': 'locals()',\n",
       " '_14': {...},\n",
       " '_i15': 'len(locals())',\n",
       " '_15': 51,\n",
       " '_i16': 'locals()'}"
      ]
     },
     "execution_count": 16,
     "metadata": {},
     "output_type": "execute_result"
    }
   ],
   "source": [
    "locals()"
   ]
  },
  {
   "cell_type": "code",
   "execution_count": 24,
   "metadata": {},
   "outputs": [
    {
     "data": {
      "text/plain": [
       "'event'"
      ]
     },
     "execution_count": 24,
     "metadata": {},
     "output_type": "execute_result"
    }
   ],
   "source": [
    "locals()[\"celiac\"].player"
   ]
  },
  {
   "cell_type": "code",
   "execution_count": 30,
   "metadata": {},
   "outputs": [
    {
     "name": "stdout",
     "output_type": "stream",
     "text": [
      "celiac\n"
     ]
    }
   ],
   "source": [
    "for local in locals():\n",
    "    try:\n",
    "        if locals()[local].player == \"event\":\n",
    "            print(local)\n",
    "    except:\n",
    "        continue"
   ]
  },
  {
   "cell_type": "code",
   "execution_count": 33,
   "metadata": {},
   "outputs": [
    {
     "data": {
      "text/plain": [
       "NoneType"
      ]
     },
     "execution_count": 33,
     "metadata": {},
     "output_type": "execute_result"
    }
   ],
   "source": [
    "type(locals()[\"celiac\"].incompatibilities)"
   ]
  },
  {
   "cell_type": "code",
   "execution_count": null,
   "metadata": {},
   "outputs": [],
   "source": []
  }
 ],
 "metadata": {
  "kernelspec": {
   "display_name": "Python 3",
   "language": "python",
   "name": "python3"
  },
  "language_info": {
   "codemirror_mode": {
    "name": "ipython",
    "version": 3
   },
   "file_extension": ".py",
   "mimetype": "text/x-python",
   "name": "python",
   "nbconvert_exporter": "python",
   "pygments_lexer": "ipython3",
   "version": "3.7.4"
  }
 },
 "nbformat": 4,
 "nbformat_minor": 2
}
