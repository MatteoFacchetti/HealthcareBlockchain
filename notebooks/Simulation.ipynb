{
 "cells": [
  {
   "cell_type": "markdown",
   "metadata": {},
   "source": [
    "# Simulation of the Healthcare BlockChain"
   ]
  },
  {
   "cell_type": "markdown",
   "metadata": {},
   "source": [
    "Let's move to the `src` folder where the code is stored, and let's import the libraries that we created and that we are going to use."
   ]
  },
  {
   "cell_type": "code",
   "execution_count": 1,
   "metadata": {},
   "outputs": [
    {
     "name": "stdout",
     "output_type": "stream",
     "text": [
      "/home/matteo/PycharmProjects/HealthcareBlockchain/src\n"
     ]
    }
   ],
   "source": [
    "cd ../src"
   ]
  },
  {
   "cell_type": "code",
   "execution_count": 2,
   "metadata": {},
   "outputs": [],
   "source": [
    "from patient import Patient\n",
    "from event import Event\n",
    "from doctor import Doctor"
   ]
  },
  {
   "cell_type": "markdown",
   "metadata": {},
   "source": [
    "We have created some fake patients, doctors, diseases and prescriptions to run this simulation."
   ]
  },
  {
   "cell_type": "code",
   "execution_count": 3,
   "metadata": {},
   "outputs": [],
   "source": [
    "# Import patients\n",
    "from simulations.simulation import Ann, Bob, Charlie, Daniel, Eveline, Frank, George, Hilary, Ingrid, Juliet\n",
    "\n",
    "# Import doctors\n",
    "from simulations.simulation import DrHouse, DrZhivago, DrJD, DrTurk, DrKelso, DrCox, DrEspinosa, DrAdams, \\\n",
    "DrFrankenstein, DrLecter\n",
    "\n",
    "# Import diseases\n",
    "from simulations.simulation import arthritis, bulimia, celiac, diabetes, ebola, flatulence, gastroenteritis, \\\n",
    "hemorrhoids, insomnia, labyrinthitis\n",
    "\n",
    "# Import prescriptions\n",
    "from simulations.simulation import prescription_1, prescription_2, prescription_3, prescription_4, prescription_5, \\\n",
    "prescription_6, prescription_7, prescription_8, prescription_9, prescription_10"
   ]
  },
  {
   "cell_type": "markdown",
   "metadata": {},
   "source": [
    "Last thing: let's import all the functions that patients and doctors will have at their disposal."
   ]
  },
  {
   "cell_type": "code",
   "execution_count": 4,
   "metadata": {},
   "outputs": [],
   "source": [
    "from utils import get_block, get_chain, add_event, load_private_key, verify, get_chain_size"
   ]
  },
  {
   "cell_type": "markdown",
   "metadata": {},
   "source": [
    "## A new patient is born"
   ]
  },
  {
   "cell_type": "markdown",
   "metadata": {},
   "source": [
    "Let's suppose that a new patient, Silvio, is born. A new blockchain related to him is created."
   ]
  },
  {
   "cell_type": "code",
   "execution_count": 5,
   "metadata": {},
   "outputs": [],
   "source": [
    "Silvio = Patient(\"W852XY\")"
   ]
  },
  {
   "cell_type": "markdown",
   "metadata": {},
   "source": [
    "The patient is identified by a unique ID which makes him uniquely identifiable, still preserving his privacy.\n",
    "\n",
    "Silvio has now his personal blockchain. When a Patient blockchain is created, private and public keys related to that patient are also generated. The patient is provided with a pair of permanent private and public keys and a pair of temporary private and public keys. These keys do not really encrypt anything (there are no messages to be encrypted in this world), but they are needed to give to the doctors permissions to deal with the patient's blockchain.\n",
    "\n",
    "The permanent private key should always be kept secret by the patient. He or she will always be able to access his or her data by using that key. The temporary key, on the other hand, can be given to the doctor when the physician has to have a look at the patient blockchain or when he or she has to add a new block to the chain. In fact, although the patient is the owner of his or her blockchain, the miner is the doctor. The doctor is the only one who can mine blocks in the chain of the patient. When the physician does so, the temporary keys that were used to give the permissions to the doctor are destroyed and replaced by new temporary keys that only the patient can see. The next time the patient meets the doctor, he or she will have to provide the doctor with the new permanent key, in order to let him or her access the patient's blockchain."
   ]
  },
  {
   "cell_type": "markdown",
   "metadata": {},
   "source": [
    "## A new drug is discovered"
   ]
  },
  {
   "cell_type": "markdown",
   "metadata": {},
   "source": [
    "Let's suppose that medical research works well and a new medicine is discovered. In our simulation, we already have 10 drugs, this is our eleventh. In order to avoid misinformation, we will refer to this drug as drug_11, without using a real name. Physicians can now prescribe drug_11 to their patients, therefore a new blockchain related to this prescription is generated."
   ]
  },
  {
   "cell_type": "code",
   "execution_count": 6,
   "metadata": {},
   "outputs": [],
   "source": [
    "prescription_11 = Event(event=\"prescription\", name=\"drug_11\", incompatibilities=[\"flatulence\", \"ebola\"], loc=locals())"
   ]
  },
  {
   "cell_type": "markdown",
   "metadata": {},
   "source": [
    "Medical research also knows that, if a patient is flatulent or has ebola, this drug will hurt him or her. As we can see from the code, these two diseases are in the list of incompatibilities of the medicine. If we print the incompatibilities of the diseases flatulence and ebola, we will see that their incompatibilities have been contextually updated."
   ]
  },
  {
   "cell_type": "code",
   "execution_count": 7,
   "metadata": {},
   "outputs": [
    {
     "name": "stdout",
     "output_type": "stream",
     "text": [
      "Flatulence incompatibilities: ['drug_11']\n",
      "Ebola incompatibilities: ['drug_4', 'drug_5', 'drug_11'])\n"
     ]
    }
   ],
   "source": [
    "print(f\"Flatulence incompatibilities: {flatulence.incompatibilities}\")\n",
    "print(f\"Ebola incompatibilities: {ebola.incompatibilities})\")"
   ]
  },
  {
   "cell_type": "markdown",
   "metadata": {},
   "source": [
    "## How this technology works"
   ]
  },
  {
   "cell_type": "markdown",
   "metadata": {},
   "source": [
    "Let's consider patient Ann. She has never had any medical issue in her life, so her blockchain only has the genesis block. One day, Ann meets doctor Adams, and the doctor certifies that Ann has contracted celiac disease.\n",
    "\n",
    "Celiac disease has to be added to Ann's blockchain. Ann gives her temporary key to doctor Adams, who will use it to do it."
   ]
  },
  {
   "cell_type": "code",
   "execution_count": 8,
   "metadata": {},
   "outputs": [],
   "source": [
    "key = load_private_key('../private_keys/R945MU_temporary.pem')"
   ]
  },
  {
   "cell_type": "code",
   "execution_count": 9,
   "metadata": {},
   "outputs": [
    {
     "name": "stdout",
     "output_type": "stream",
     "text": [
      "celiac disease added successfully to patient R945MU\n",
      "Temporary keys have been refreshed. Old keys have been destroyed and will not work.\n"
     ]
    }
   ],
   "source": [
    "add_event(doctor=DrAdams, event=celiac, patient=Ann, key=key)"
   ]
  },
  {
   "cell_type": "markdown",
   "metadata": {},
   "source": [
    "As we can see, the temporary key has been refreshed. If the doctor tries to use the same key to check Ann's blockchain, he will get an error."
   ]
  },
  {
   "cell_type": "code",
   "execution_count": 10,
   "metadata": {},
   "outputs": [
    {
     "ename": "PermissionError",
     "evalue": "You do not have access to the BlockChain of this patient.",
     "output_type": "error",
     "traceback": [
      "\u001b[0;31m---------------------------------------------------------------------------\u001b[0m",
      "\u001b[0;31mPermissionError\u001b[0m                           Traceback (most recent call last)",
      "\u001b[0;32m<ipython-input-10-71bd96168845>\u001b[0m in \u001b[0;36m<module>\u001b[0;34m\u001b[0m\n\u001b[0;32m----> 1\u001b[0;31m \u001b[0mget_chain\u001b[0m\u001b[0;34m(\u001b[0m\u001b[0mAnn\u001b[0m\u001b[0;34m,\u001b[0m \u001b[0mkey\u001b[0m\u001b[0;34m=\u001b[0m\u001b[0mkey\u001b[0m\u001b[0;34m)\u001b[0m\u001b[0;34m\u001b[0m\u001b[0;34m\u001b[0m\u001b[0m\n\u001b[0m",
      "\u001b[0;32m~/PycharmProjects/HealthcareBlockchain/src/utils.py\u001b[0m in \u001b[0;36mget_chain\u001b[0;34m(chain, key)\u001b[0m\n\u001b[1;32m     44\u001b[0m     \"\"\"\n\u001b[1;32m     45\u001b[0m     \u001b[0;32mif\u001b[0m \u001b[0misinstance\u001b[0m\u001b[0;34m(\u001b[0m\u001b[0mchain\u001b[0m\u001b[0;34m,\u001b[0m \u001b[0mPatient\u001b[0m\u001b[0;34m)\u001b[0m\u001b[0;34m:\u001b[0m\u001b[0;34m\u001b[0m\u001b[0;34m\u001b[0m\u001b[0m\n\u001b[0;32m---> 46\u001b[0;31m         \u001b[0mcheck_keys\u001b[0m\u001b[0;34m(\u001b[0m\u001b[0mkey\u001b[0m\u001b[0;34m,\u001b[0m \u001b[0mchain\u001b[0m\u001b[0;34m)\u001b[0m\u001b[0;34m\u001b[0m\u001b[0;34m\u001b[0m\u001b[0m\n\u001b[0m\u001b[1;32m     47\u001b[0m         \u001b[0mrefresh_keys\u001b[0m\u001b[0;34m(\u001b[0m\u001b[0mchain\u001b[0m\u001b[0;34m)\u001b[0m\u001b[0;34m\u001b[0m\u001b[0;34m\u001b[0m\u001b[0m\n\u001b[1;32m     48\u001b[0m     \u001b[0;32mreturn\u001b[0m \u001b[0mchain\u001b[0m\u001b[0;34m.\u001b[0m\u001b[0mget_chain\u001b[0m\u001b[0;34m(\u001b[0m\u001b[0;34m)\u001b[0m\u001b[0;34m\u001b[0m\u001b[0;34m\u001b[0m\u001b[0m\n",
      "\u001b[0;32m~/PycharmProjects/HealthcareBlockchain/src/utils.py\u001b[0m in \u001b[0;36mcheck_keys\u001b[0;34m(key, patient)\u001b[0m\n\u001b[1;32m    165\u001b[0m                                                format=serialization.PublicFormat.SubjectPublicKeyInfo)\n\u001b[1;32m    166\u001b[0m     \u001b[0;32mif\u001b[0m \u001b[0mkey\u001b[0m \u001b[0;34m!=\u001b[0m \u001b[0mpublic_key\u001b[0m \u001b[0;32mand\u001b[0m \u001b[0mkey\u001b[0m \u001b[0;34m!=\u001b[0m \u001b[0mpermanent_key\u001b[0m\u001b[0;34m:\u001b[0m\u001b[0;34m\u001b[0m\u001b[0;34m\u001b[0m\u001b[0m\n\u001b[0;32m--> 167\u001b[0;31m         \u001b[0;32mraise\u001b[0m \u001b[0mPermissionError\u001b[0m\u001b[0;34m(\u001b[0m\u001b[0;34m\"You do not have access to the BlockChain of this patient.\"\u001b[0m\u001b[0;34m)\u001b[0m\u001b[0;34m\u001b[0m\u001b[0;34m\u001b[0m\u001b[0m\n\u001b[0m\u001b[1;32m    168\u001b[0m \u001b[0;34m\u001b[0m\u001b[0m\n\u001b[1;32m    169\u001b[0m \u001b[0;34m\u001b[0m\u001b[0m\n",
      "\u001b[0;31mPermissionError\u001b[0m: You do not have access to the BlockChain of this patient."
     ]
    }
   ],
   "source": [
    "get_chain(Ann, key=key)"
   ]
  },
  {
   "cell_type": "markdown",
   "metadata": {},
   "source": [
    "If Ann gives the new temporary key to the doctor, then he will be able to check her blockchain."
   ]
  },
  {
   "cell_type": "code",
   "execution_count": 11,
   "metadata": {},
   "outputs": [
    {
     "name": "stdout",
     "output_type": "stream",
     "text": [
      "Temporary keys have been refreshed. Old keys have been destroyed and will not work.\n"
     ]
    },
    {
     "data": {
      "text/html": [
       "<div>\n",
       "<style scoped>\n",
       "    .dataframe tbody tr th:only-of-type {\n",
       "        vertical-align: middle;\n",
       "    }\n",
       "\n",
       "    .dataframe tbody tr th {\n",
       "        vertical-align: top;\n",
       "    }\n",
       "\n",
       "    .dataframe thead th {\n",
       "        text-align: right;\n",
       "    }\n",
       "</style>\n",
       "<table border=\"1\" class=\"dataframe\">\n",
       "  <thead>\n",
       "    <tr style=\"text-align: right;\">\n",
       "      <th></th>\n",
       "      <th>Name</th>\n",
       "      <th>Doctor</th>\n",
       "      <th>Timestamp</th>\n",
       "      <th>Event</th>\n",
       "      <th>Kind</th>\n",
       "      <th>Previous hash</th>\n",
       "      <th>Hash</th>\n",
       "    </tr>\n",
       "    <tr>\n",
       "      <th>Index</th>\n",
       "      <th></th>\n",
       "      <th></th>\n",
       "      <th></th>\n",
       "      <th></th>\n",
       "      <th></th>\n",
       "      <th></th>\n",
       "      <th></th>\n",
       "    </tr>\n",
       "  </thead>\n",
       "  <tbody>\n",
       "    <tr>\n",
       "      <td>0</td>\n",
       "      <td>R945MU</td>\n",
       "      <td>None</td>\n",
       "      <td>2019-12-09 16:26:04.112335</td>\n",
       "      <td>None</td>\n",
       "      <td>None</td>\n",
       "      <td>0000000000000000000000000000000000000000000000...</td>\n",
       "      <td>694950a87a5999e44d10ccd9412e8e654f2562b607709b...</td>\n",
       "    </tr>\n",
       "    <tr>\n",
       "      <td>1</td>\n",
       "      <td>R945MU</td>\n",
       "      <td>D-Y553CX</td>\n",
       "      <td>2019-12-09 16:26:06.444703</td>\n",
       "      <td>disease</td>\n",
       "      <td>celiac</td>\n",
       "      <td>694950a87a5999e44d10ccd9412e8e654f2562b607709b...</td>\n",
       "      <td>f93caef868c70739091b70d0e8879a0c7dc609145c7d1d...</td>\n",
       "    </tr>\n",
       "  </tbody>\n",
       "</table>\n",
       "</div>"
      ],
      "text/plain": [
       "         Name    Doctor                  Timestamp    Event    Kind  \\\n",
       "Index                                                                 \n",
       "0      R945MU      None 2019-12-09 16:26:04.112335     None    None   \n",
       "1      R945MU  D-Y553CX 2019-12-09 16:26:06.444703  disease  celiac   \n",
       "\n",
       "                                           Previous hash  \\\n",
       "Index                                                      \n",
       "0      0000000000000000000000000000000000000000000000...   \n",
       "1      694950a87a5999e44d10ccd9412e8e654f2562b607709b...   \n",
       "\n",
       "                                                    Hash  \n",
       "Index                                                     \n",
       "0      694950a87a5999e44d10ccd9412e8e654f2562b607709b...  \n",
       "1      f93caef868c70739091b70d0e8879a0c7dc609145c7d1d...  "
      ]
     },
     "execution_count": 11,
     "metadata": {},
     "output_type": "execute_result"
    }
   ],
   "source": [
    "key = load_private_key('../private_keys/R945MU_temporary.pem')\n",
    "get_chain(Ann, key=key)"
   ]
  },
  {
   "cell_type": "markdown",
   "metadata": {},
   "source": [
    "Again, the keys have been refreshed and the old ones cannot be used. What the function `get_chain` returned is Ann's blockchain. We can see that the event \"celiac disease\" has now been added.\n",
    "\n",
    "We can also see how the blockchain of celiac disease and the blockchain of doctor Adams have been updated."
   ]
  },
  {
   "cell_type": "code",
   "execution_count": 12,
   "metadata": {},
   "outputs": [
    {
     "data": {
      "text/html": [
       "<div>\n",
       "<style scoped>\n",
       "    .dataframe tbody tr th:only-of-type {\n",
       "        vertical-align: middle;\n",
       "    }\n",
       "\n",
       "    .dataframe tbody tr th {\n",
       "        vertical-align: top;\n",
       "    }\n",
       "\n",
       "    .dataframe thead th {\n",
       "        text-align: right;\n",
       "    }\n",
       "</style>\n",
       "<table border=\"1\" class=\"dataframe\">\n",
       "  <thead>\n",
       "    <tr style=\"text-align: right;\">\n",
       "      <th></th>\n",
       "      <th>Name</th>\n",
       "      <th>Patient</th>\n",
       "      <th>Doctor</th>\n",
       "      <th>Timestamp</th>\n",
       "      <th>Previous hash</th>\n",
       "      <th>Hash</th>\n",
       "    </tr>\n",
       "    <tr>\n",
       "      <th>Index</th>\n",
       "      <th></th>\n",
       "      <th></th>\n",
       "      <th></th>\n",
       "      <th></th>\n",
       "      <th></th>\n",
       "      <th></th>\n",
       "    </tr>\n",
       "  </thead>\n",
       "  <tbody>\n",
       "    <tr>\n",
       "      <td>0</td>\n",
       "      <td>celiac</td>\n",
       "      <td>None</td>\n",
       "      <td>None</td>\n",
       "      <td>2019-12-09 16:26:05.802650</td>\n",
       "      <td>0000000000000000000000000000000000000000000000...</td>\n",
       "      <td>890b0416bd1e1d81feabb73d161ed999541e6a489c6f98...</td>\n",
       "    </tr>\n",
       "    <tr>\n",
       "      <td>1</td>\n",
       "      <td>celiac</td>\n",
       "      <td>R945MU</td>\n",
       "      <td>D-Y553CX</td>\n",
       "      <td>2019-12-09 16:26:06.444762</td>\n",
       "      <td>890b0416bd1e1d81feabb73d161ed999541e6a489c6f98...</td>\n",
       "      <td>4ad2129dbd4af332ac225367cae90017809aad912d1cc2...</td>\n",
       "    </tr>\n",
       "  </tbody>\n",
       "</table>\n",
       "</div>"
      ],
      "text/plain": [
       "         Name Patient    Doctor                  Timestamp  \\\n",
       "Index                                                        \n",
       "0      celiac    None      None 2019-12-09 16:26:05.802650   \n",
       "1      celiac  R945MU  D-Y553CX 2019-12-09 16:26:06.444762   \n",
       "\n",
       "                                           Previous hash  \\\n",
       "Index                                                      \n",
       "0      0000000000000000000000000000000000000000000000...   \n",
       "1      890b0416bd1e1d81feabb73d161ed999541e6a489c6f98...   \n",
       "\n",
       "                                                    Hash  \n",
       "Index                                                     \n",
       "0      890b0416bd1e1d81feabb73d161ed999541e6a489c6f98...  \n",
       "1      4ad2129dbd4af332ac225367cae90017809aad912d1cc2...  "
      ]
     },
     "execution_count": 12,
     "metadata": {},
     "output_type": "execute_result"
    }
   ],
   "source": [
    "get_chain(celiac)"
   ]
  },
  {
   "cell_type": "code",
   "execution_count": 13,
   "metadata": {},
   "outputs": [
    {
     "data": {
      "text/html": [
       "<div>\n",
       "<style scoped>\n",
       "    .dataframe tbody tr th:only-of-type {\n",
       "        vertical-align: middle;\n",
       "    }\n",
       "\n",
       "    .dataframe tbody tr th {\n",
       "        vertical-align: top;\n",
       "    }\n",
       "\n",
       "    .dataframe thead th {\n",
       "        text-align: right;\n",
       "    }\n",
       "</style>\n",
       "<table border=\"1\" class=\"dataframe\">\n",
       "  <thead>\n",
       "    <tr style=\"text-align: right;\">\n",
       "      <th></th>\n",
       "      <th>Name</th>\n",
       "      <th>Patient</th>\n",
       "      <th>Timestamp</th>\n",
       "      <th>Event</th>\n",
       "      <th>Kind</th>\n",
       "      <th>Previous hash</th>\n",
       "      <th>Hash</th>\n",
       "    </tr>\n",
       "    <tr>\n",
       "      <th>Index</th>\n",
       "      <th></th>\n",
       "      <th></th>\n",
       "      <th></th>\n",
       "      <th></th>\n",
       "      <th></th>\n",
       "      <th></th>\n",
       "      <th></th>\n",
       "    </tr>\n",
       "  </thead>\n",
       "  <tbody>\n",
       "    <tr>\n",
       "      <td>0</td>\n",
       "      <td>D-Y553CX</td>\n",
       "      <td>None</td>\n",
       "      <td>2019-12-09 16:26:05.803028</td>\n",
       "      <td>None</td>\n",
       "      <td>None</td>\n",
       "      <td>0000000000000000000000000000000000000000000000...</td>\n",
       "      <td>f5f7fabd1150d2e020a56d74582454ca82a91f1f07561f...</td>\n",
       "    </tr>\n",
       "    <tr>\n",
       "      <td>1</td>\n",
       "      <td>D-Y553CX</td>\n",
       "      <td>R945MU</td>\n",
       "      <td>2019-12-09 16:26:06.444789</td>\n",
       "      <td>disease</td>\n",
       "      <td>celiac</td>\n",
       "      <td>f5f7fabd1150d2e020a56d74582454ca82a91f1f07561f...</td>\n",
       "      <td>6d17089c6f9e39a069baac0ab69914d1b0070b12b5ec6b...</td>\n",
       "    </tr>\n",
       "  </tbody>\n",
       "</table>\n",
       "</div>"
      ],
      "text/plain": [
       "           Name Patient                  Timestamp    Event    Kind  \\\n",
       "Index                                                                 \n",
       "0      D-Y553CX    None 2019-12-09 16:26:05.803028     None    None   \n",
       "1      D-Y553CX  R945MU 2019-12-09 16:26:06.444789  disease  celiac   \n",
       "\n",
       "                                           Previous hash  \\\n",
       "Index                                                      \n",
       "0      0000000000000000000000000000000000000000000000...   \n",
       "1      f5f7fabd1150d2e020a56d74582454ca82a91f1f07561f...   \n",
       "\n",
       "                                                    Hash  \n",
       "Index                                                     \n",
       "0      f5f7fabd1150d2e020a56d74582454ca82a91f1f07561f...  \n",
       "1      6d17089c6f9e39a069baac0ab69914d1b0070b12b5ec6b...  "
      ]
     },
     "execution_count": 13,
     "metadata": {},
     "output_type": "execute_result"
    }
   ],
   "source": [
    "get_chain(DrAdams)"
   ]
  },
  {
   "cell_type": "code",
   "execution_count": 14,
   "metadata": {},
   "outputs": [
    {
     "data": {
      "text/plain": [
       "['drug_9', 'drug_10']"
      ]
     },
     "execution_count": 14,
     "metadata": {},
     "output_type": "execute_result"
    }
   ],
   "source": [
    "celiac.incompatibilities"
   ]
  },
  {
   "cell_type": "markdown",
   "metadata": {},
   "source": [
    "One day, Ann catches a fever. She meets another doctor, doctor Cox, who does not know (or does not remember) that Ann has celiac disease (or does not remember that a certain drug is not compatible with that disease).\n",
    "\n",
    "Doctor Cox tries to make a prescription for drug_9 to Ann (prescription_9), but drug_9 is not compatible with her celiac disease. The blockchain knows that and will throw an error, preventing the mistake."
   ]
  },
  {
   "cell_type": "code",
   "execution_count": 15,
   "metadata": {},
   "outputs": [
    {
     "ename": "IncompatibilityError",
     "evalue": "Past event celiac is not compatible with drug_9 prescription",
     "output_type": "error",
     "traceback": [
      "\u001b[0;31m---------------------------------------------------------------------------\u001b[0m",
      "\u001b[0;31mIncompatibilityError\u001b[0m                      Traceback (most recent call last)",
      "\u001b[0;32m<ipython-input-15-d37796f89d9f>\u001b[0m in \u001b[0;36m<module>\u001b[0;34m\u001b[0m\n\u001b[1;32m      1\u001b[0m \u001b[0mkey\u001b[0m \u001b[0;34m=\u001b[0m \u001b[0mload_private_key\u001b[0m\u001b[0;34m(\u001b[0m\u001b[0;34m'../private_keys/R945MU_temporary.pem'\u001b[0m\u001b[0;34m)\u001b[0m\u001b[0;34m\u001b[0m\u001b[0;34m\u001b[0m\u001b[0m\n\u001b[0;32m----> 2\u001b[0;31m \u001b[0madd_event\u001b[0m\u001b[0;34m(\u001b[0m\u001b[0mdoctor\u001b[0m\u001b[0;34m=\u001b[0m\u001b[0mDrCox\u001b[0m\u001b[0;34m,\u001b[0m \u001b[0mevent\u001b[0m\u001b[0;34m=\u001b[0m\u001b[0mprescription_9\u001b[0m\u001b[0;34m,\u001b[0m \u001b[0mpatient\u001b[0m\u001b[0;34m=\u001b[0m\u001b[0mAnn\u001b[0m\u001b[0;34m,\u001b[0m \u001b[0mkey\u001b[0m\u001b[0;34m=\u001b[0m\u001b[0mkey\u001b[0m\u001b[0;34m)\u001b[0m\u001b[0;34m\u001b[0m\u001b[0;34m\u001b[0m\u001b[0m\n\u001b[0m",
      "\u001b[0;32m~/PycharmProjects/HealthcareBlockchain/src/utils.py\u001b[0m in \u001b[0;36madd_event\u001b[0;34m(doctor, event, patient, key)\u001b[0m\n\u001b[1;32m     67\u001b[0m         \u001b[0;32mraise\u001b[0m \u001b[0mPermissionError\u001b[0m\u001b[0;34m(\u001b[0m\u001b[0;34m\"Only doctors can add events.\"\u001b[0m\u001b[0;34m)\u001b[0m\u001b[0;34m\u001b[0m\u001b[0;34m\u001b[0m\u001b[0m\n\u001b[1;32m     68\u001b[0m     \u001b[0mcheck_keys\u001b[0m\u001b[0;34m(\u001b[0m\u001b[0mkey\u001b[0m\u001b[0;34m,\u001b[0m \u001b[0mpatient\u001b[0m\u001b[0;34m)\u001b[0m\u001b[0;34m\u001b[0m\u001b[0;34m\u001b[0m\u001b[0m\n\u001b[0;32m---> 69\u001b[0;31m     \u001b[0mdoctor\u001b[0m\u001b[0;34m.\u001b[0m\u001b[0madd_event\u001b[0m\u001b[0;34m(\u001b[0m\u001b[0mevent\u001b[0m\u001b[0;34m,\u001b[0m \u001b[0mpatient\u001b[0m\u001b[0;34m)\u001b[0m\u001b[0;34m\u001b[0m\u001b[0;34m\u001b[0m\u001b[0m\n\u001b[0m\u001b[1;32m     70\u001b[0m     \u001b[0mprint\u001b[0m\u001b[0;34m(\u001b[0m\u001b[0;34mf\"{event.name} {event.event} added successfully to patient {patient.name}\"\u001b[0m\u001b[0;34m)\u001b[0m\u001b[0;34m\u001b[0m\u001b[0;34m\u001b[0m\u001b[0m\n\u001b[1;32m     71\u001b[0m     \u001b[0mrefresh_keys\u001b[0m\u001b[0;34m(\u001b[0m\u001b[0mpatient\u001b[0m\u001b[0;34m)\u001b[0m\u001b[0;34m\u001b[0m\u001b[0;34m\u001b[0m\u001b[0m\n",
      "\u001b[0;32m~/PycharmProjects/HealthcareBlockchain/src/doctor.py\u001b[0m in \u001b[0;36madd_event\u001b[0;34m(self, event, patient)\u001b[0m\n\u001b[1;32m     33\u001b[0m             \u001b[0mThe\u001b[0m \u001b[0mBlockChain\u001b[0m \u001b[0mrelative\u001b[0m \u001b[0mto\u001b[0m \u001b[0mthe\u001b[0m \u001b[0mpatient\u001b[0m \u001b[0mthat\u001b[0m \u001b[0mfaces\u001b[0m \u001b[0mthe\u001b[0m \u001b[0mevent\u001b[0m\u001b[0;34m.\u001b[0m\u001b[0;34m\u001b[0m\u001b[0;34m\u001b[0m\u001b[0m\n\u001b[1;32m     34\u001b[0m         \"\"\"\n\u001b[0;32m---> 35\u001b[0;31m         \u001b[0mpatient\u001b[0m\u001b[0;34m.\u001b[0m\u001b[0madd_block\u001b[0m\u001b[0;34m(\u001b[0m\u001b[0mevent\u001b[0m\u001b[0;34m,\u001b[0m \u001b[0mdoctor\u001b[0m\u001b[0;34m=\u001b[0m\u001b[0mself\u001b[0m\u001b[0;34m)\u001b[0m\u001b[0;34m\u001b[0m\u001b[0;34m\u001b[0m\u001b[0m\n\u001b[0m\u001b[1;32m     36\u001b[0m         \u001b[0mevent\u001b[0m\u001b[0;34m.\u001b[0m\u001b[0madd_block\u001b[0m\u001b[0;34m(\u001b[0m\u001b[0mpatient\u001b[0m\u001b[0;34m,\u001b[0m \u001b[0mdoctor\u001b[0m\u001b[0;34m=\u001b[0m\u001b[0mself\u001b[0m\u001b[0;34m)\u001b[0m\u001b[0;34m\u001b[0m\u001b[0;34m\u001b[0m\u001b[0m\n\u001b[1;32m     37\u001b[0m         \u001b[0mself\u001b[0m\u001b[0;34m.\u001b[0m\u001b[0madd_block\u001b[0m\u001b[0;34m(\u001b[0m\u001b[0mevent\u001b[0m\u001b[0;34m,\u001b[0m \u001b[0mpatient\u001b[0m\u001b[0;34m)\u001b[0m\u001b[0;34m\u001b[0m\u001b[0;34m\u001b[0m\u001b[0m\n",
      "\u001b[0;32m~/PycharmProjects/HealthcareBlockchain/src/patient.py\u001b[0m in \u001b[0;36madd_block\u001b[0;34m(self, event, doctor)\u001b[0m\n\u001b[1;32m     42\u001b[0m             \u001b[0;32mfor\u001b[0m \u001b[0mev\u001b[0m \u001b[0;32min\u001b[0m \u001b[0mself\u001b[0m\u001b[0;34m.\u001b[0m\u001b[0mget_chain\u001b[0m\u001b[0;34m(\u001b[0m\u001b[0;34m)\u001b[0m\u001b[0;34m.\u001b[0m\u001b[0mKind\u001b[0m\u001b[0;34m:\u001b[0m\u001b[0;34m\u001b[0m\u001b[0;34m\u001b[0m\u001b[0m\n\u001b[1;32m     43\u001b[0m                 \u001b[0;32mif\u001b[0m \u001b[0mev\u001b[0m \u001b[0;32min\u001b[0m \u001b[0mevent\u001b[0m\u001b[0;34m.\u001b[0m\u001b[0mincompatibilities\u001b[0m\u001b[0;34m:\u001b[0m\u001b[0;34m\u001b[0m\u001b[0;34m\u001b[0m\u001b[0m\n\u001b[0;32m---> 44\u001b[0;31m                     \u001b[0;32mraise\u001b[0m \u001b[0mIncompatibilityError\u001b[0m\u001b[0;34m(\u001b[0m\u001b[0;34mf\"Past event {ev} is not compatible with {event.name} {event.event}\"\u001b[0m\u001b[0;34m)\u001b[0m\u001b[0;34m\u001b[0m\u001b[0;34m\u001b[0m\u001b[0m\n\u001b[0m\u001b[1;32m     45\u001b[0m \u001b[0;34m\u001b[0m\u001b[0m\n\u001b[1;32m     46\u001b[0m         self.blocks.append(Block(len(self.blocks), player=self.player, name=self.name, doctor=doctor.name,\n",
      "\u001b[0;31mIncompatibilityError\u001b[0m: Past event celiac is not compatible with drug_9 prescription"
     ]
    }
   ],
   "source": [
    "key = load_private_key('../private_keys/R945MU_temporary.pem')\n",
    "add_event(doctor=DrCox, event=prescription_9, patient=Ann, key=key)"
   ]
  },
  {
   "cell_type": "markdown",
   "metadata": {},
   "source": [
    "Doctor Cox will then prescribe a different medicine, for example drug_8, which is compatible with celiac disease."
   ]
  },
  {
   "cell_type": "code",
   "execution_count": 16,
   "metadata": {},
   "outputs": [
    {
     "name": "stdout",
     "output_type": "stream",
     "text": [
      "drug_8 prescription added successfully to patient R945MU\n",
      "Temporary keys have been refreshed. Old keys have been destroyed and will not work.\n"
     ]
    }
   ],
   "source": [
    "key = load_private_key('../private_keys/R945MU_temporary.pem')\n",
    "add_event(doctor=DrCox, event=prescription_8, patient=Ann, key=key)"
   ]
  },
  {
   "cell_type": "markdown",
   "metadata": {},
   "source": [
    "Let's have a look at Ann's blockchain now."
   ]
  },
  {
   "cell_type": "code",
   "execution_count": 17,
   "metadata": {},
   "outputs": [
    {
     "name": "stdout",
     "output_type": "stream",
     "text": [
      "Temporary keys have been refreshed. Old keys have been destroyed and will not work.\n"
     ]
    },
    {
     "data": {
      "text/html": [
       "<div>\n",
       "<style scoped>\n",
       "    .dataframe tbody tr th:only-of-type {\n",
       "        vertical-align: middle;\n",
       "    }\n",
       "\n",
       "    .dataframe tbody tr th {\n",
       "        vertical-align: top;\n",
       "    }\n",
       "\n",
       "    .dataframe thead th {\n",
       "        text-align: right;\n",
       "    }\n",
       "</style>\n",
       "<table border=\"1\" class=\"dataframe\">\n",
       "  <thead>\n",
       "    <tr style=\"text-align: right;\">\n",
       "      <th></th>\n",
       "      <th>Name</th>\n",
       "      <th>Doctor</th>\n",
       "      <th>Timestamp</th>\n",
       "      <th>Event</th>\n",
       "      <th>Kind</th>\n",
       "      <th>Previous hash</th>\n",
       "      <th>Hash</th>\n",
       "    </tr>\n",
       "    <tr>\n",
       "      <th>Index</th>\n",
       "      <th></th>\n",
       "      <th></th>\n",
       "      <th></th>\n",
       "      <th></th>\n",
       "      <th></th>\n",
       "      <th></th>\n",
       "      <th></th>\n",
       "    </tr>\n",
       "  </thead>\n",
       "  <tbody>\n",
       "    <tr>\n",
       "      <td>0</td>\n",
       "      <td>R945MU</td>\n",
       "      <td>None</td>\n",
       "      <td>2019-12-09 16:26:04.112335</td>\n",
       "      <td>None</td>\n",
       "      <td>None</td>\n",
       "      <td>0000000000000000000000000000000000000000000000...</td>\n",
       "      <td>694950a87a5999e44d10ccd9412e8e654f2562b607709b...</td>\n",
       "    </tr>\n",
       "    <tr>\n",
       "      <td>1</td>\n",
       "      <td>R945MU</td>\n",
       "      <td>D-Y553CX</td>\n",
       "      <td>2019-12-09 16:26:06.444703</td>\n",
       "      <td>disease</td>\n",
       "      <td>celiac</td>\n",
       "      <td>694950a87a5999e44d10ccd9412e8e654f2562b607709b...</td>\n",
       "      <td>f93caef868c70739091b70d0e8879a0c7dc609145c7d1d...</td>\n",
       "    </tr>\n",
       "    <tr>\n",
       "      <td>2</td>\n",
       "      <td>R945MU</td>\n",
       "      <td>D-Y553BX</td>\n",
       "      <td>2019-12-09 16:26:15.748361</td>\n",
       "      <td>prescription</td>\n",
       "      <td>drug_8</td>\n",
       "      <td>f93caef868c70739091b70d0e8879a0c7dc609145c7d1d...</td>\n",
       "      <td>812c0a9d8a33caa9d819c6a1c0d3dffb039265af508856...</td>\n",
       "    </tr>\n",
       "  </tbody>\n",
       "</table>\n",
       "</div>"
      ],
      "text/plain": [
       "         Name    Doctor                  Timestamp         Event    Kind  \\\n",
       "Index                                                                      \n",
       "0      R945MU      None 2019-12-09 16:26:04.112335          None    None   \n",
       "1      R945MU  D-Y553CX 2019-12-09 16:26:06.444703       disease  celiac   \n",
       "2      R945MU  D-Y553BX 2019-12-09 16:26:15.748361  prescription  drug_8   \n",
       "\n",
       "                                           Previous hash  \\\n",
       "Index                                                      \n",
       "0      0000000000000000000000000000000000000000000000...   \n",
       "1      694950a87a5999e44d10ccd9412e8e654f2562b607709b...   \n",
       "2      f93caef868c70739091b70d0e8879a0c7dc609145c7d1d...   \n",
       "\n",
       "                                                    Hash  \n",
       "Index                                                     \n",
       "0      694950a87a5999e44d10ccd9412e8e654f2562b607709b...  \n",
       "1      f93caef868c70739091b70d0e8879a0c7dc609145c7d1d...  \n",
       "2      812c0a9d8a33caa9d819c6a1c0d3dffb039265af508856...  "
      ]
     },
     "execution_count": 17,
     "metadata": {},
     "output_type": "execute_result"
    }
   ],
   "source": [
    "key = load_private_key('../private_keys/R945MU_temporary.pem')\n",
    "get_chain(Ann, key=key)"
   ]
  },
  {
   "cell_type": "markdown",
   "metadata": {},
   "source": [
    "Everything has been stored correctly. We can verify that the chain is not corrupted by running the appropriate function."
   ]
  },
  {
   "cell_type": "code",
   "execution_count": 18,
   "metadata": {},
   "outputs": [
    {
     "data": {
      "text/plain": [
       "(True, 'The BlockChain is not corrupted.')"
      ]
     },
     "execution_count": 18,
     "metadata": {},
     "output_type": "execute_result"
    }
   ],
   "source": [
    "verify(Ann)"
   ]
  },
  {
   "cell_type": "markdown",
   "metadata": {},
   "source": [
    "One last thing we can do is, for example check how many people in the world have contracted celiac disease."
   ]
  },
  {
   "cell_type": "code",
   "execution_count": 19,
   "metadata": {},
   "outputs": [
    {
     "data": {
      "text/plain": [
       "1"
      ]
     },
     "execution_count": 19,
     "metadata": {},
     "output_type": "execute_result"
    }
   ],
   "source": [
    "get_chain_size(celiac)"
   ]
  },
  {
   "cell_type": "markdown",
   "metadata": {},
   "source": [
    "Only one person (Ann) has celiac disease. Let's suppose that another person, say Bob, contracts celiac disease (this event will be certified by doctor JD). We will see that the `get_chain_size` will print 2."
   ]
  },
  {
   "cell_type": "code",
   "execution_count": 20,
   "metadata": {},
   "outputs": [
    {
     "name": "stdout",
     "output_type": "stream",
     "text": [
      "celiac disease added successfully to patient C901UL\n",
      "Temporary keys have been refreshed. Old keys have been destroyed and will not work.\n"
     ]
    }
   ],
   "source": [
    "key = load_private_key('../private_keys/C901UL_temporary.pem')\n",
    "add_event(doctor=DrJD, event=celiac, patient=Bob, key=key)"
   ]
  },
  {
   "cell_type": "code",
   "execution_count": 21,
   "metadata": {},
   "outputs": [
    {
     "data": {
      "text/plain": [
       "2"
      ]
     },
     "execution_count": 21,
     "metadata": {},
     "output_type": "execute_result"
    }
   ],
   "source": [
    "get_chain_size(celiac)"
   ]
  },
  {
   "cell_type": "markdown",
   "metadata": {},
   "source": [
    "It is worth noting that, if a patient tries to mine blocks of his or her own blockchain, he or she will get an error. This time, patient Charlie will try to add diabetes to his chain, using his permanent key."
   ]
  },
  {
   "cell_type": "code",
   "execution_count": 22,
   "metadata": {},
   "outputs": [],
   "source": [
    "permanent_key = load_private_key('../private_keys/R396UZ_permanent.pem')"
   ]
  },
  {
   "cell_type": "code",
   "execution_count": 23,
   "metadata": {},
   "outputs": [
    {
     "ename": "PermissionError",
     "evalue": "Only doctors can add events.",
     "output_type": "error",
     "traceback": [
      "\u001b[0;31m---------------------------------------------------------------------------\u001b[0m",
      "\u001b[0;31mPermissionError\u001b[0m                           Traceback (most recent call last)",
      "\u001b[0;32m<ipython-input-23-9a89e2bdc5d9>\u001b[0m in \u001b[0;36m<module>\u001b[0;34m\u001b[0m\n\u001b[0;32m----> 1\u001b[0;31m \u001b[0madd_event\u001b[0m\u001b[0;34m(\u001b[0m\u001b[0mdoctor\u001b[0m\u001b[0;34m=\u001b[0m\u001b[0mCharlie\u001b[0m\u001b[0;34m,\u001b[0m \u001b[0mevent\u001b[0m\u001b[0;34m=\u001b[0m\u001b[0mdiabetes\u001b[0m\u001b[0;34m,\u001b[0m \u001b[0mpatient\u001b[0m\u001b[0;34m=\u001b[0m\u001b[0mCharlie\u001b[0m\u001b[0;34m,\u001b[0m \u001b[0mkey\u001b[0m\u001b[0;34m=\u001b[0m\u001b[0mpermanent_key\u001b[0m\u001b[0;34m)\u001b[0m\u001b[0;34m\u001b[0m\u001b[0;34m\u001b[0m\u001b[0m\n\u001b[0m",
      "\u001b[0;32m~/PycharmProjects/HealthcareBlockchain/src/utils.py\u001b[0m in \u001b[0;36madd_event\u001b[0;34m(doctor, event, patient, key)\u001b[0m\n\u001b[1;32m     65\u001b[0m     \"\"\"\n\u001b[1;32m     66\u001b[0m     \u001b[0;32mif\u001b[0m \u001b[0mdoctor\u001b[0m\u001b[0;34m.\u001b[0m\u001b[0mplayer\u001b[0m \u001b[0;34m!=\u001b[0m \u001b[0;34m\"doctor\"\u001b[0m\u001b[0;34m:\u001b[0m\u001b[0;34m\u001b[0m\u001b[0;34m\u001b[0m\u001b[0m\n\u001b[0;32m---> 67\u001b[0;31m         \u001b[0;32mraise\u001b[0m \u001b[0mPermissionError\u001b[0m\u001b[0;34m(\u001b[0m\u001b[0;34m\"Only doctors can add events.\"\u001b[0m\u001b[0;34m)\u001b[0m\u001b[0;34m\u001b[0m\u001b[0;34m\u001b[0m\u001b[0m\n\u001b[0m\u001b[1;32m     68\u001b[0m     \u001b[0mcheck_keys\u001b[0m\u001b[0;34m(\u001b[0m\u001b[0mkey\u001b[0m\u001b[0;34m,\u001b[0m \u001b[0mpatient\u001b[0m\u001b[0;34m)\u001b[0m\u001b[0;34m\u001b[0m\u001b[0;34m\u001b[0m\u001b[0m\n\u001b[1;32m     69\u001b[0m     \u001b[0mdoctor\u001b[0m\u001b[0;34m.\u001b[0m\u001b[0madd_event\u001b[0m\u001b[0;34m(\u001b[0m\u001b[0mevent\u001b[0m\u001b[0;34m,\u001b[0m \u001b[0mpatient\u001b[0m\u001b[0;34m)\u001b[0m\u001b[0;34m\u001b[0m\u001b[0;34m\u001b[0m\u001b[0m\n",
      "\u001b[0;31mPermissionError\u001b[0m: Only doctors can add events."
     ]
    }
   ],
   "source": [
    "add_event(doctor=Charlie, event=diabetes, patient=Charlie, key=permanent_key)"
   ]
  },
  {
   "cell_type": "markdown",
   "metadata": {},
   "source": [
    "However, as we mentioned above, the permanent key is never destroyed, and any patient can use it to check his health blockchain any time he or she wants. Now Ann uses her permanent key to check her blockchain."
   ]
  },
  {
   "cell_type": "code",
   "execution_count": 24,
   "metadata": {},
   "outputs": [],
   "source": [
    "permanent_key = load_private_key('../private_keys/R945MU_permanent.pem')"
   ]
  },
  {
   "cell_type": "code",
   "execution_count": 25,
   "metadata": {},
   "outputs": [
    {
     "name": "stdout",
     "output_type": "stream",
     "text": [
      "Temporary keys have been refreshed. Old keys have been destroyed and will not work.\n"
     ]
    },
    {
     "data": {
      "text/html": [
       "<div>\n",
       "<style scoped>\n",
       "    .dataframe tbody tr th:only-of-type {\n",
       "        vertical-align: middle;\n",
       "    }\n",
       "\n",
       "    .dataframe tbody tr th {\n",
       "        vertical-align: top;\n",
       "    }\n",
       "\n",
       "    .dataframe thead th {\n",
       "        text-align: right;\n",
       "    }\n",
       "</style>\n",
       "<table border=\"1\" class=\"dataframe\">\n",
       "  <thead>\n",
       "    <tr style=\"text-align: right;\">\n",
       "      <th></th>\n",
       "      <th>Name</th>\n",
       "      <th>Doctor</th>\n",
       "      <th>Timestamp</th>\n",
       "      <th>Event</th>\n",
       "      <th>Kind</th>\n",
       "      <th>Previous hash</th>\n",
       "      <th>Hash</th>\n",
       "    </tr>\n",
       "    <tr>\n",
       "      <th>Index</th>\n",
       "      <th></th>\n",
       "      <th></th>\n",
       "      <th></th>\n",
       "      <th></th>\n",
       "      <th></th>\n",
       "      <th></th>\n",
       "      <th></th>\n",
       "    </tr>\n",
       "  </thead>\n",
       "  <tbody>\n",
       "    <tr>\n",
       "      <td>0</td>\n",
       "      <td>R945MU</td>\n",
       "      <td>None</td>\n",
       "      <td>2019-12-09 16:26:04.112335</td>\n",
       "      <td>None</td>\n",
       "      <td>None</td>\n",
       "      <td>0000000000000000000000000000000000000000000000...</td>\n",
       "      <td>694950a87a5999e44d10ccd9412e8e654f2562b607709b...</td>\n",
       "    </tr>\n",
       "    <tr>\n",
       "      <td>1</td>\n",
       "      <td>R945MU</td>\n",
       "      <td>D-Y553CX</td>\n",
       "      <td>2019-12-09 16:26:06.444703</td>\n",
       "      <td>disease</td>\n",
       "      <td>celiac</td>\n",
       "      <td>694950a87a5999e44d10ccd9412e8e654f2562b607709b...</td>\n",
       "      <td>f93caef868c70739091b70d0e8879a0c7dc609145c7d1d...</td>\n",
       "    </tr>\n",
       "    <tr>\n",
       "      <td>2</td>\n",
       "      <td>R945MU</td>\n",
       "      <td>D-Y553BX</td>\n",
       "      <td>2019-12-09 16:26:15.748361</td>\n",
       "      <td>prescription</td>\n",
       "      <td>drug_8</td>\n",
       "      <td>f93caef868c70739091b70d0e8879a0c7dc609145c7d1d...</td>\n",
       "      <td>812c0a9d8a33caa9d819c6a1c0d3dffb039265af508856...</td>\n",
       "    </tr>\n",
       "  </tbody>\n",
       "</table>\n",
       "</div>"
      ],
      "text/plain": [
       "         Name    Doctor                  Timestamp         Event    Kind  \\\n",
       "Index                                                                      \n",
       "0      R945MU      None 2019-12-09 16:26:04.112335          None    None   \n",
       "1      R945MU  D-Y553CX 2019-12-09 16:26:06.444703       disease  celiac   \n",
       "2      R945MU  D-Y553BX 2019-12-09 16:26:15.748361  prescription  drug_8   \n",
       "\n",
       "                                           Previous hash  \\\n",
       "Index                                                      \n",
       "0      0000000000000000000000000000000000000000000000...   \n",
       "1      694950a87a5999e44d10ccd9412e8e654f2562b607709b...   \n",
       "2      f93caef868c70739091b70d0e8879a0c7dc609145c7d1d...   \n",
       "\n",
       "                                                    Hash  \n",
       "Index                                                     \n",
       "0      694950a87a5999e44d10ccd9412e8e654f2562b607709b...  \n",
       "1      f93caef868c70739091b70d0e8879a0c7dc609145c7d1d...  \n",
       "2      812c0a9d8a33caa9d819c6a1c0d3dffb039265af508856...  "
      ]
     },
     "execution_count": 25,
     "metadata": {},
     "output_type": "execute_result"
    }
   ],
   "source": [
    "get_chain(Ann, key=permanent_key)"
   ]
  },
  {
   "cell_type": "code",
   "execution_count": 26,
   "metadata": {},
   "outputs": [
    {
     "name": "stdout",
     "output_type": "stream",
     "text": [
      "Temporary keys have been refreshed. Old keys have been destroyed and will not work.\n"
     ]
    },
    {
     "data": {
      "text/html": [
       "<div>\n",
       "<style scoped>\n",
       "    .dataframe tbody tr th:only-of-type {\n",
       "        vertical-align: middle;\n",
       "    }\n",
       "\n",
       "    .dataframe tbody tr th {\n",
       "        vertical-align: top;\n",
       "    }\n",
       "\n",
       "    .dataframe thead th {\n",
       "        text-align: right;\n",
       "    }\n",
       "</style>\n",
       "<table border=\"1\" class=\"dataframe\">\n",
       "  <thead>\n",
       "    <tr style=\"text-align: right;\">\n",
       "      <th></th>\n",
       "      <th>Name</th>\n",
       "      <th>Doctor</th>\n",
       "      <th>Timestamp</th>\n",
       "      <th>Event</th>\n",
       "      <th>Kind</th>\n",
       "      <th>Previous hash</th>\n",
       "      <th>Hash</th>\n",
       "    </tr>\n",
       "    <tr>\n",
       "      <th>Index</th>\n",
       "      <th></th>\n",
       "      <th></th>\n",
       "      <th></th>\n",
       "      <th></th>\n",
       "      <th></th>\n",
       "      <th></th>\n",
       "      <th></th>\n",
       "    </tr>\n",
       "  </thead>\n",
       "  <tbody>\n",
       "    <tr>\n",
       "      <td>0</td>\n",
       "      <td>R945MU</td>\n",
       "      <td>None</td>\n",
       "      <td>2019-12-09 16:26:04.112335</td>\n",
       "      <td>None</td>\n",
       "      <td>None</td>\n",
       "      <td>0000000000000000000000000000000000000000000000...</td>\n",
       "      <td>694950a87a5999e44d10ccd9412e8e654f2562b607709b...</td>\n",
       "    </tr>\n",
       "    <tr>\n",
       "      <td>1</td>\n",
       "      <td>R945MU</td>\n",
       "      <td>D-Y553CX</td>\n",
       "      <td>2019-12-09 16:26:06.444703</td>\n",
       "      <td>disease</td>\n",
       "      <td>celiac</td>\n",
       "      <td>694950a87a5999e44d10ccd9412e8e654f2562b607709b...</td>\n",
       "      <td>f93caef868c70739091b70d0e8879a0c7dc609145c7d1d...</td>\n",
       "    </tr>\n",
       "    <tr>\n",
       "      <td>2</td>\n",
       "      <td>R945MU</td>\n",
       "      <td>D-Y553BX</td>\n",
       "      <td>2019-12-09 16:26:15.748361</td>\n",
       "      <td>prescription</td>\n",
       "      <td>drug_8</td>\n",
       "      <td>f93caef868c70739091b70d0e8879a0c7dc609145c7d1d...</td>\n",
       "      <td>812c0a9d8a33caa9d819c6a1c0d3dffb039265af508856...</td>\n",
       "    </tr>\n",
       "  </tbody>\n",
       "</table>\n",
       "</div>"
      ],
      "text/plain": [
       "         Name    Doctor                  Timestamp         Event    Kind  \\\n",
       "Index                                                                      \n",
       "0      R945MU      None 2019-12-09 16:26:04.112335          None    None   \n",
       "1      R945MU  D-Y553CX 2019-12-09 16:26:06.444703       disease  celiac   \n",
       "2      R945MU  D-Y553BX 2019-12-09 16:26:15.748361  prescription  drug_8   \n",
       "\n",
       "                                           Previous hash  \\\n",
       "Index                                                      \n",
       "0      0000000000000000000000000000000000000000000000...   \n",
       "1      694950a87a5999e44d10ccd9412e8e654f2562b607709b...   \n",
       "2      f93caef868c70739091b70d0e8879a0c7dc609145c7d1d...   \n",
       "\n",
       "                                                    Hash  \n",
       "Index                                                     \n",
       "0      694950a87a5999e44d10ccd9412e8e654f2562b607709b...  \n",
       "1      f93caef868c70739091b70d0e8879a0c7dc609145c7d1d...  \n",
       "2      812c0a9d8a33caa9d819c6a1c0d3dffb039265af508856...  "
      ]
     },
     "execution_count": 26,
     "metadata": {},
     "output_type": "execute_result"
    }
   ],
   "source": [
    "get_chain(Ann, key=permanent_key)"
   ]
  }
 ],
 "metadata": {
  "kernelspec": {
   "display_name": "Python 3",
   "language": "python",
   "name": "python3"
  },
  "language_info": {
   "codemirror_mode": {
    "name": "ipython",
    "version": 3
   },
   "file_extension": ".py",
   "mimetype": "text/x-python",
   "name": "python",
   "nbconvert_exporter": "python",
   "pygments_lexer": "ipython3",
   "version": "3.7.4"
  }
 },
 "nbformat": 4,
 "nbformat_minor": 2
}
