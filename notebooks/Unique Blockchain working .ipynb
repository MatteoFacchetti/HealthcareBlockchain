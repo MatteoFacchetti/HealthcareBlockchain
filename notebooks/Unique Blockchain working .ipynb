{
 "cells": [
  {
   "cell_type": "markdown",
   "metadata": {},
   "source": [
    "# Healthcare Blockchain"
   ]
  },
  {
   "cell_type": "code",
   "execution_count": 1,
   "metadata": {},
   "outputs": [
    {
     "name": "stdout",
     "output_type": "stream",
     "text": [
      "C:\\Users\\Edoardo\\PycharmProjects\\HealthcareBlockchain\\unique_blockchain\n"
     ]
    }
   ],
   "source": [
    "cd ../unique_blockchain"
   ]
  },
  {
   "cell_type": "code",
   "execution_count": 2,
   "metadata": {},
   "outputs": [],
   "source": [
    "from blockchain import Blockchain\n",
    "from agents import Doctor, Miner, Patient, Minister\n",
    "import nacl.signing"
   ]
  },
  {
   "cell_type": "markdown",
   "metadata": {},
   "source": [
    "# Initiate Blockchain"
   ]
  },
  {
   "cell_type": "markdown",
   "metadata": {},
   "source": [
    "When we start the blockchain we pass an object Minister, that the blockchain instantiates immediately. We can change the specific instantiation of Minister depending on the country. With the object Minister we also want to pass a dictionary of medicines that the Minister of health showed that are incompatible with some illnesses. "
   ]
  },
  {
   "cell_type": "code",
   "execution_count": 3,
   "metadata": {},
   "outputs": [],
   "source": [
    "\n",
    "incompatibilities = {'medicine1': ['illness1', 'illness2'],\n",
    "                    'medicine2': ['illness1'],\n",
    "                    'medicine3': ['illness2', 'illness3']}\n",
    "\n",
    "Health_block = Blockchain(Minister, incompatibilities)"
   ]
  },
  {
   "cell_type": "markdown",
   "metadata": {},
   "source": [
    "Now we can access the object Minister via the Blockchain object. We might want, for example, to retrieve the incompatibilites or adding new ones"
   ]
  },
  {
   "cell_type": "code",
   "execution_count": 5,
   "metadata": {},
   "outputs": [
    {
     "data": {
      "text/plain": [
       "{'medicine1': ['illness1', 'illness2'],\n",
       " 'medicine2': ['illness1'],\n",
       " 'medicine3': ['illness2', 'illness3']}"
      ]
     },
     "execution_count": 5,
     "metadata": {},
     "output_type": "execute_result"
    }
   ],
   "source": [
    "Health_block.Minister.incompatibilities"
   ]
  },
  {
   "cell_type": "code",
   "execution_count": 9,
   "metadata": {},
   "outputs": [],
   "source": [
    "Health_block.Minister.incompatibilities['medicine4'] =  ['illness2']"
   ]
  },
  {
   "cell_type": "code",
   "execution_count": 10,
   "metadata": {},
   "outputs": [
    {
     "data": {
      "text/plain": [
       "{'medicine1': ['illness1', 'illness2'],\n",
       " 'medicine2': ['illness1'],\n",
       " 'medicine3': ['illness2', 'illness3'],\n",
       " 'medicine4': ['illness2']}"
      ]
     },
     "execution_count": 10,
     "metadata": {},
     "output_type": "execute_result"
    }
   ],
   "source": [
    "Health_block.Minister.incompatibilities"
   ]
  },
  {
   "cell_type": "markdown",
   "metadata": {},
   "source": [
    "# Instantiate the agents"
   ]
  },
  {
   "cell_type": "markdown",
   "metadata": {},
   "source": [
    "When we have the blockchain ready, we can think that the users start opening their account"
   ]
  },
  {
   "cell_type": "code",
   "execution_count": 11,
   "metadata": {},
   "outputs": [],
   "source": [
    "# Miners\n",
    "miner1 = Miner(Health_block)\n",
    "miner2 = Miner(Health_block)\n",
    "miner3 = Miner(Health_block)\n",
    "miner4 = Miner(Health_block)\n",
    "\n",
    "# Doctors\n",
    "doctor1 = Doctor('Doctor Muller')\n",
    "doctor2 = Doctor('Doctor Johannes')\n",
    "\n",
    "# Patients\n",
    "patient1 = Patient('Mr. Black')\n",
    "patient2 = Patient('Mr. Green')\n",
    "patient3 = Patient('Mr. White')"
   ]
  },
  {
   "cell_type": "markdown",
   "metadata": {},
   "source": [
    "Every type of agent has its unique attributes. For instance:\n",
    "    1. The Doctor has the authorization which is by default eual to None and it takes a valid value when the Minister sends him the authorization.\n",
    "    2. The Patient has the history of the illnesses, which are initiated with an empty list.\n",
    "    3. Each Miner has the complete history of the blockhchain and a wallet in which the fees are charged."
   ]
  },
  {
   "cell_type": "code",
   "execution_count": 14,
   "metadata": {},
   "outputs": [
    {
     "name": "stdout",
     "output_type": "stream",
     "text": [
      "---------doctor---------\n",
      "None\n",
      "---------patient---------\n",
      "[]\n",
      "---------miner---------\n",
      "[{'index': 1, 'timestamp': 1576407454.3041582, 'transactions': [], 'nounce': 100, 'previous_hash': 1}]\n",
      "0\n"
     ]
    }
   ],
   "source": [
    "print('---------doctor---------')\n",
    "print(doctor1.authorization)\n",
    "\n",
    "print('---------patient---------')\n",
    "print(patient1.illnesses)\n",
    "\n",
    "print('---------miner---------')\n",
    "print(miner1.chain)\n",
    "print(miner1.wallet)"
   ]
  },
  {
   "cell_type": "markdown",
   "metadata": {},
   "source": [
    "# Simulations"
   ]
  },
  {
   "cell_type": "markdown",
   "metadata": {},
   "source": [
    "## No authorization"
   ]
  },
  {
   "cell_type": "markdown",
   "metadata": {},
   "source": [
    "Now no doctor has an authorization, so let's see what happens if a doctor tries to do some diagnoses with no authorization"
   ]
  },
  {
   "cell_type": "code",
   "execution_count": 17,
   "metadata": {},
   "outputs": [
    {
     "name": "stdout",
     "output_type": "stream",
     "text": [
      "Not valid Doctor authorization\n",
      "Not valid Doctor authorization\n",
      "Not valid Doctor authorization\n",
      "Not valid Doctor authorization\n",
      "Mined a new block with number 2\n",
      "Block number 2 broadcasted to all the nodes\n"
     ]
    }
   ],
   "source": [
    "# We first create the 2 transactions\n",
    "Health_block.new_diagnosis(doctor2, patient1, 'illness2', 0.20)\n",
    "Health_block.new_diagnosis(doctor2, patient3, 'illness3', 0.20)\n",
    "\n",
    "# Then we mine a block including all the miners\n",
    "miners = [miner1, miner2, miner3, miner4]\n",
    "Health_block.mine(miners)"
   ]
  },
  {
   "cell_type": "markdown",
   "metadata": {},
   "source": [
    "What happens is that every miner reject the transaction because the authorization cannot be opened using the public key of the Minister. So the block is mined, but without transaction. Let's inspect it"
   ]
  },
  {
   "cell_type": "code",
   "execution_count": 18,
   "metadata": {},
   "outputs": [
    {
     "data": {
      "text/plain": [
       "[{'index': 1,\n",
       "  'timestamp': 1576407454.3041582,\n",
       "  'transactions': [],\n",
       "  'nounce': 100,\n",
       "  'previous_hash': 1},\n",
       " {'index': 2,\n",
       "  'timestamp': 1576408211.6219943,\n",
       "  'transactions': [],\n",
       "  'nounce': 226,\n",
       "  'previous_hash': '4f53cda18c2baa0c0354bb5f9a3ecbe5ed12ab4d8e11ba873c2f11161202b945'}]"
      ]
     },
     "execution_count": 18,
     "metadata": {},
     "output_type": "execute_result"
    }
   ],
   "source": [
    "Health_block.chain"
   ]
  },
  {
   "cell_type": "markdown",
   "metadata": {},
   "source": [
    "We can see that the second block does not have transactions and no illnessess have been appended to the history of the patients"
   ]
  },
  {
   "cell_type": "code",
   "execution_count": 22,
   "metadata": {},
   "outputs": [
    {
     "name": "stdout",
     "output_type": "stream",
     "text": [
      "[]\n",
      "[]\n"
     ]
    }
   ],
   "source": [
    "print(patient1.illnesses)\n",
    "print(patient3.illnesses)"
   ]
  },
  {
   "cell_type": "markdown",
   "metadata": {},
   "source": [
    "## Authorization"
   ]
  },
  {
   "cell_type": "markdown",
   "metadata": {},
   "source": [
    "Now let's create a new authorization by the Minister for the doctor1"
   ]
  },
  {
   "cell_type": "code",
   "execution_count": 24,
   "metadata": {},
   "outputs": [
    {
     "name": "stdout",
     "output_type": "stream",
     "text": [
      "Mined a new block with number 3\n",
      "Block number 3 broadcasted to all the nodes\n"
     ]
    }
   ],
   "source": [
    "Health_block.new_authorization(doctor1, 0.50)\n",
    "Health_block.mine(miners)"
   ]
  },
  {
   "cell_type": "code",
   "execution_count": 25,
   "metadata": {},
   "outputs": [
    {
     "data": {
      "text/plain": [
       "[{'index': 1,\n",
       "  'timestamp': 1576407454.3041582,\n",
       "  'transactions': [],\n",
       "  'nounce': 100,\n",
       "  'previous_hash': 1},\n",
       " {'index': 2,\n",
       "  'timestamp': 1576408211.6219943,\n",
       "  'transactions': [],\n",
       "  'nounce': 226,\n",
       "  'previous_hash': '4f53cda18c2baa0c0354bb5f9a3ecbe5ed12ab4d8e11ba873c2f11161202b945'},\n",
       " {'index': 3,\n",
       "  'timestamp': 1576408632.2123766,\n",
       "  'transactions': [{'type': 'authorization',\n",
       "    'sender': <agents.Minister at 0x17756c06e48>,\n",
       "    'recipient': <agents.Doctor at 0x17756c2dc88>,\n",
       "    'authorization': b\"'\\xf9\\xf5\\x9a\\xdd\\xfaZ\\x9bC\\xa1%\\xad\\x8f\\x17P^\\\\\\xfe\\x82\\xb0/\\x9f\\x12\\x05V\\xad\\xf7\\xff\\x11\\xbcK\\xfb@\\xb7^\\x1d\\x9f\\xe6\\xe0?\\xf8\\x0b\\xb84Wb\\x8c\\xf4\\xbb\\xc1*\\x8f\\x99x\\xf7\\xc6\\xcfr)\\xe6|IJ\\n32708382f6ed7ab0fa61fb00bf7deca056e603149268753ffd28c2b48c678dd8\",\n",
       "    'fee': 0.5}],\n",
       "  'nounce': 346,\n",
       "  'previous_hash': '4f53cda18c2baa0c0354bb5f9a3ecbe5ed12ab4d8e11ba873c2f11161202b945'}]"
      ]
     },
     "execution_count": 25,
     "metadata": {},
     "output_type": "execute_result"
    }
   ],
   "source": [
    "Health_block.chain"
   ]
  },
  {
   "cell_type": "markdown",
   "metadata": {},
   "source": [
    "In the transaction of the last block we now can see the authorization issued by the Minister to the doctor. If we inspect the doctor authorization now we should see the unique code shown in the transaction"
   ]
  },
  {
   "cell_type": "code",
   "execution_count": 26,
   "metadata": {},
   "outputs": [
    {
     "data": {
      "text/plain": [
       "b\"'\\xf9\\xf5\\x9a\\xdd\\xfaZ\\x9bC\\xa1%\\xad\\x8f\\x17P^\\\\\\xfe\\x82\\xb0/\\x9f\\x12\\x05V\\xad\\xf7\\xff\\x11\\xbcK\\xfb@\\xb7^\\x1d\\x9f\\xe6\\xe0?\\xf8\\x0b\\xb84Wb\\x8c\\xf4\\xbb\\xc1*\\x8f\\x99x\\xf7\\xc6\\xcfr)\\xe6|IJ\\n32708382f6ed7ab0fa61fb00bf7deca056e603149268753ffd28c2b48c678dd8\""
      ]
     },
     "execution_count": 26,
     "metadata": {},
     "output_type": "execute_result"
    }
   ],
   "source": [
    "doctor1.authorization"
   ]
  },
  {
   "cell_type": "markdown",
   "metadata": {},
   "source": [
    "If doctor1 tries now to do diagnoses, these will have immediate effects on patients"
   ]
  },
  {
   "cell_type": "code",
   "execution_count": 28,
   "metadata": {},
   "outputs": [
    {
     "name": "stdout",
     "output_type": "stream",
     "text": [
      "Mined a new block with number 4\n",
      "Block number 4 broadcasted to all the nodes\n"
     ]
    }
   ],
   "source": [
    "Health_block.new_diagnosis(doctor1, patient3, 'illness1', 0.20)\n",
    "Health_block.mine(miners)"
   ]
  },
  {
   "cell_type": "code",
   "execution_count": 29,
   "metadata": {},
   "outputs": [
    {
     "data": {
      "text/plain": [
       "['illness1']"
      ]
     },
     "execution_count": 29,
     "metadata": {},
     "output_type": "execute_result"
    }
   ],
   "source": [
    "patient3.illnesses"
   ]
  },
  {
   "cell_type": "markdown",
   "metadata": {},
   "source": [
    "## Fake Authorization"
   ]
  },
  {
   "cell_type": "markdown",
   "metadata": {},
   "source": [
    "Let's see what happens if a doctor, say doctor2, creates a fake authorization and put it in its own variable authorization"
   ]
  },
  {
   "cell_type": "code",
   "execution_count": 32,
   "metadata": {},
   "outputs": [],
   "source": [
    "# We first create a random privte key\n",
    "private_key_random = nacl.signing.SigningKey.generate()\n",
    "\n",
    "# We then sign the address of the doctor with that key\n",
    "signed = private_key_random.sign(bytes(doctor2.address, 'utf-8'))\n",
    "\n",
    "# Finally we insert the authorization in the variable\n",
    "doctor2.authorization = signed\n"
   ]
  },
  {
   "cell_type": "code",
   "execution_count": 33,
   "metadata": {},
   "outputs": [
    {
     "name": "stdout",
     "output_type": "stream",
     "text": [
      "b'\\xdcZ\\x03\\xef\\xff\\x08\\xcf\\xaf]sF\\t\\x8a/\\xa0\\xab\\x07\\xdb\\xee/L\\x9c\\xe9\\xc2qY\\xc2x!L=y\\x8d\\xb7\\xac\\x07\\xe4n\\\\\\x1e\\xbey\\xd9\\x1c;65\\xa6o!b\\xa9\\x8f\\x9a\\xec\\xa0N9\\xd2\\xf5\\x8c\\\\\\x11\\x050f0bc04036b9ec20467e1e8f4c960fda577514b613e1da5ca1684bae1cbf1fbd'\n"
     ]
    }
   ],
   "source": [
    "print(doctor2.authorization)"
   ]
  },
  {
   "cell_type": "code",
   "execution_count": 34,
   "metadata": {},
   "outputs": [
    {
     "name": "stdout",
     "output_type": "stream",
     "text": [
      "Not valid Doctor authorization\n",
      "Mined a new block with number 5\n",
      "Block number 5 broadcasted to all the nodes\n"
     ]
    }
   ],
   "source": [
    "Health_block.new_diagnosis(doctor2, patient1, 'illness2', 0.20)\n",
    "Health_block.mine(miners)"
   ]
  },
  {
   "cell_type": "markdown",
   "metadata": {},
   "source": [
    "THe miners detect the fake authorization and the last block will not contain not valida transactions"
   ]
  },
  {
   "cell_type": "code",
   "execution_count": 36,
   "metadata": {},
   "outputs": [
    {
     "data": {
      "text/plain": [
       "[{'index': 1,\n",
       "  'timestamp': 1576407454.3041582,\n",
       "  'transactions': [],\n",
       "  'nounce': 100,\n",
       "  'previous_hash': 1},\n",
       " {'index': 2,\n",
       "  'timestamp': 1576408211.6219943,\n",
       "  'transactions': [],\n",
       "  'nounce': 226,\n",
       "  'previous_hash': '4f53cda18c2baa0c0354bb5f9a3ecbe5ed12ab4d8e11ba873c2f11161202b945'},\n",
       " {'index': 3,\n",
       "  'timestamp': 1576408632.2123766,\n",
       "  'transactions': [{'type': 'authorization',\n",
       "    'sender': <agents.Minister at 0x17756c06e48>,\n",
       "    'recipient': <agents.Doctor at 0x17756c2dc88>,\n",
       "    'authorization': b\"'\\xf9\\xf5\\x9a\\xdd\\xfaZ\\x9bC\\xa1%\\xad\\x8f\\x17P^\\\\\\xfe\\x82\\xb0/\\x9f\\x12\\x05V\\xad\\xf7\\xff\\x11\\xbcK\\xfb@\\xb7^\\x1d\\x9f\\xe6\\xe0?\\xf8\\x0b\\xb84Wb\\x8c\\xf4\\xbb\\xc1*\\x8f\\x99x\\xf7\\xc6\\xcfr)\\xe6|IJ\\n32708382f6ed7ab0fa61fb00bf7deca056e603149268753ffd28c2b48c678dd8\",\n",
       "    'fee': 0.5}],\n",
       "  'nounce': 346,\n",
       "  'previous_hash': '4f53cda18c2baa0c0354bb5f9a3ecbe5ed12ab4d8e11ba873c2f11161202b945'},\n",
       " {'index': 4,\n",
       "  'timestamp': 1576408785.7469268,\n",
       "  'transactions': [{'type': 'diagnosis',\n",
       "    'sender': <agents.Doctor at 0x17756c2dc88>,\n",
       "    'recipient': <agents.Patient at 0x17756c2ddd8>,\n",
       "    'illness': 'illness1',\n",
       "    'fee': 0.2}],\n",
       "  'nounce': 57,\n",
       "  'previous_hash': '4203304da69aa87ed34d499ba4c55e95b78f21c7a40d79aa09b29a54ebf33b4a'},\n",
       " {'index': 5,\n",
       "  'timestamp': 1576408972.673735,\n",
       "  'transactions': [],\n",
       "  'nounce': 289,\n",
       "  'previous_hash': 'cfe11473dcb333c192ebe471338cd0e32d043ff507fca8c8fc9fa2b854e9e44c'}]"
      ]
     },
     "execution_count": 36,
     "metadata": {},
     "output_type": "execute_result"
    }
   ],
   "source": [
    "Health_block.chain"
   ]
  },
  {
   "cell_type": "markdown",
   "metadata": {},
   "source": [
    "# Prescription"
   ]
  },
  {
   "cell_type": "markdown",
   "metadata": {},
   "source": [
    "Another feature of the blockchain is that prevents doctors to do prescriptions of medicines not compatible with the illness history of the patient"
   ]
  },
  {
   "cell_type": "code",
   "execution_count": 37,
   "metadata": {},
   "outputs": [
    {
     "data": {
      "text/plain": [
       "{'medicine1': ['illness1', 'illness2'],\n",
       " 'medicine2': ['illness1'],\n",
       " 'medicine3': ['illness2', 'illness3'],\n",
       " 'medicine4': ['illness2']}"
      ]
     },
     "execution_count": 37,
     "metadata": {},
     "output_type": "execute_result"
    }
   ],
   "source": [
    "Health_block.Minister.incompatibilities"
   ]
  },
  {
   "cell_type": "code",
   "execution_count": 38,
   "metadata": {},
   "outputs": [
    {
     "data": {
      "text/plain": [
       "['illness1']"
      ]
     },
     "execution_count": 38,
     "metadata": {},
     "output_type": "execute_result"
    }
   ],
   "source": [
    "patient3.illnesses"
   ]
  },
  {
   "cell_type": "markdown",
   "metadata": {},
   "source": [
    "if we see above, patient3 had illness1 and looking at the incompatibilites declared by the minister medicine1 and medicine2 are not compatible with this illness"
   ]
  },
  {
   "cell_type": "code",
   "execution_count": 39,
   "metadata": {},
   "outputs": [
    {
     "name": "stdout",
     "output_type": "stream",
     "text": [
      "Incompatibility of one prescription with the history of the patient\n",
      "Mined a new block with number 6\n",
      "Block number 6 broadcasted to all the nodes\n"
     ]
    }
   ],
   "source": [
    "# Let's try to do a prescription incompatible with the illnesses of patient3\n",
    "Health_block.new_prescription(doctor1, patient3, 'medicine2', 0.20)\n",
    "Health_block.mine(miners)"
   ]
  },
  {
   "cell_type": "markdown",
   "metadata": {},
   "source": [
    "Also in this case, the mined block will not contain not allowed transaction as in this case"
   ]
  },
  {
   "cell_type": "markdown",
   "metadata": {},
   "source": [
    "# Miner Wallet"
   ]
  },
  {
   "cell_type": "markdown",
   "metadata": {},
   "source": [
    "Every Miner has a wallet in which the fees of the transactions are charged. Let's inspect the wallets of the miners at this point"
   ]
  },
  {
   "cell_type": "code",
   "execution_count": 42,
   "metadata": {},
   "outputs": [
    {
     "name": "stdout",
     "output_type": "stream",
     "text": [
      "0 0.2 0.5 0\n"
     ]
    }
   ],
   "source": [
    "print(miner1.wallet, miner2.wallet, miner3.wallet, miner4.wallet)"
   ]
  },
  {
   "cell_type": "markdown",
   "metadata": {},
   "source": [
    "# Reading Permission"
   ]
  },
  {
   "cell_type": "markdown",
   "metadata": {},
   "source": [
    "The last feature that the blockchain implements is a temporary couple of private and public keys for each patient, so that the doctor can access the history of the patient only one time without future access to the patient's data "
   ]
  },
  {
   "cell_type": "code",
   "execution_count": 43,
   "metadata": {},
   "outputs": [
    {
     "name": "stdout",
     "output_type": "stream",
     "text": [
      "Temporary keys have been refreshed. Old keys have been destroyed and will not work.\n",
      "['illness1']\n"
     ]
    }
   ],
   "source": [
    "# Let's first store the orivate key fo the patient\n",
    "private_key = patient3.private_key\n",
    "\n",
    "# Now let's access the history of the patient using the private key\n",
    "print(Health_block.get_patient_history(patient3, private_key=private_key))"
   ]
  },
  {
   "cell_type": "code",
   "execution_count": 44,
   "metadata": {},
   "outputs": [
    {
     "ename": "PermissionError",
     "evalue": "You do not have access to the BlockChain of this patient.",
     "output_type": "error",
     "traceback": [
      "\u001b[1;31m---------------------------------------------------------------------------\u001b[0m",
      "\u001b[1;31mPermissionError\u001b[0m                           Traceback (most recent call last)",
      "\u001b[1;32m~\\PycharmProjects\\HealthcareBlockchain\\unique_blockchain\\blockchain.py\u001b[0m in \u001b[0;36mget_patient_history\u001b[1;34m(self, patient, private_key)\u001b[0m\n\u001b[0;32m    314\u001b[0m         \u001b[1;32mtry\u001b[0m\u001b[1;33m:\u001b[0m\u001b[1;33m\u001b[0m\u001b[0m\n\u001b[1;32m--> 315\u001b[1;33m             \u001b[0mself\u001b[0m\u001b[1;33m.\u001b[0m\u001b[0mcheck_keys\u001b[0m\u001b[1;33m(\u001b[0m\u001b[0mpatient\u001b[0m\u001b[1;33m,\u001b[0m \u001b[0mprivate_key\u001b[0m\u001b[1;33m)\u001b[0m\u001b[1;33m\u001b[0m\u001b[0m\n\u001b[0m\u001b[0;32m    316\u001b[0m             \u001b[0mpatient\u001b[0m\u001b[1;33m.\u001b[0m\u001b[0mrefresh_keys\u001b[0m\u001b[1;33m(\u001b[0m\u001b[1;33m)\u001b[0m\u001b[1;33m\u001b[0m\u001b[0m\n",
      "\u001b[1;32m~\\PycharmProjects\\HealthcareBlockchain\\unique_blockchain\\blockchain.py\u001b[0m in \u001b[0;36mcheck_keys\u001b[1;34m(self, Patient, private_key)\u001b[0m\n\u001b[0;32m    298\u001b[0m         \u001b[1;32mif\u001b[0m \u001b[0mpublic_key_temp\u001b[0m \u001b[1;33m!=\u001b[0m \u001b[0mpublic_key\u001b[0m\u001b[1;33m:\u001b[0m\u001b[1;33m\u001b[0m\u001b[0m\n\u001b[1;32m--> 299\u001b[1;33m             \u001b[1;32mraise\u001b[0m \u001b[0mPermissionError\u001b[0m\u001b[1;33m(\u001b[0m\u001b[1;34m\"You do not have access to the BlockChain of this patient.\"\u001b[0m\u001b[1;33m)\u001b[0m\u001b[1;33m\u001b[0m\u001b[0m\n\u001b[0m\u001b[0;32m    300\u001b[0m \u001b[1;33m\u001b[0m\u001b[0m\n",
      "\u001b[1;31mPermissionError\u001b[0m: You do not have access to the BlockChain of this patient.",
      "\nDuring handling of the above exception, another exception occurred:\n",
      "\u001b[1;31mPermissionError\u001b[0m                           Traceback (most recent call last)",
      "\u001b[1;32m<ipython-input-44-b87dcf5eec28>\u001b[0m in \u001b[0;36m<module>\u001b[1;34m()\u001b[0m\n\u001b[0;32m      1\u001b[0m \u001b[1;31m# If now we attempt to reaccess the history again, this will not be possible\u001b[0m\u001b[1;33m\u001b[0m\u001b[1;33m\u001b[0m\u001b[0m\n\u001b[1;32m----> 2\u001b[1;33m \u001b[0mprint\u001b[0m\u001b[1;33m(\u001b[0m\u001b[0mHealth_block\u001b[0m\u001b[1;33m.\u001b[0m\u001b[0mget_patient_history\u001b[0m\u001b[1;33m(\u001b[0m\u001b[0mpatient3\u001b[0m\u001b[1;33m,\u001b[0m \u001b[0mprivate_key\u001b[0m\u001b[1;33m=\u001b[0m\u001b[0mprivate_key\u001b[0m\u001b[1;33m)\u001b[0m\u001b[1;33m)\u001b[0m\u001b[1;33m\u001b[0m\u001b[0m\n\u001b[0m",
      "\u001b[1;32m~\\PycharmProjects\\HealthcareBlockchain\\unique_blockchain\\blockchain.py\u001b[0m in \u001b[0;36mget_patient_history\u001b[1;34m(self, patient, private_key)\u001b[0m\n\u001b[0;32m    317\u001b[0m             \u001b[1;32mreturn\u001b[0m \u001b[0mpatient\u001b[0m\u001b[1;33m.\u001b[0m\u001b[0millnesses\u001b[0m\u001b[1;33m\u001b[0m\u001b[0m\n\u001b[0;32m    318\u001b[0m         \u001b[1;32mexcept\u001b[0m\u001b[1;33m:\u001b[0m\u001b[1;33m\u001b[0m\u001b[0m\n\u001b[1;32m--> 319\u001b[1;33m             \u001b[1;32mraise\u001b[0m \u001b[0mPermissionError\u001b[0m\u001b[1;33m(\u001b[0m\u001b[1;34m\"You do not have access to the BlockChain of this patient.\"\u001b[0m\u001b[1;33m)\u001b[0m\u001b[1;33m\u001b[0m\u001b[0m\n\u001b[0m",
      "\u001b[1;31mPermissionError\u001b[0m: You do not have access to the BlockChain of this patient."
     ]
    }
   ],
   "source": [
    "# If now we attempt to reaccess the history again, this will not be possible\n",
    "print(Health_block.get_patient_history(patient3, private_key=private_key))"
   ]
  }
 ],
 "metadata": {
  "kernelspec": {
   "display_name": "Python 3",
   "language": "python",
   "name": "python3"
  },
  "language_info": {
   "codemirror_mode": {
    "name": "ipython",
    "version": 3
   },
   "file_extension": ".py",
   "mimetype": "text/x-python",
   "name": "python",
   "nbconvert_exporter": "python",
   "pygments_lexer": "ipython3",
   "version": "3.6.5"
  }
 },
 "nbformat": 4,
 "nbformat_minor": 2
}
