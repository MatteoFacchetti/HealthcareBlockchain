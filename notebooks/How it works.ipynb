{
 "cells": [
  {
   "cell_type": "markdown",
   "metadata": {},
   "source": [
    "Move to the `src` folder first."
   ]
  },
  {
   "cell_type": "code",
   "execution_count": 1,
   "metadata": {},
   "outputs": [
    {
     "name": "stdout",
     "output_type": "stream",
     "text": [
      "/home/matteo/PycharmProjects/HealthcareBlockchain/src\n"
     ]
    }
   ],
   "source": [
    "cd ../src"
   ]
  },
  {
   "cell_type": "code",
   "execution_count": 2,
   "metadata": {},
   "outputs": [],
   "source": [
    "from patient import Patient\n",
    "from event import Event\n",
    "from blockchain import add_event"
   ]
  },
  {
   "cell_type": "markdown",
   "metadata": {},
   "source": [
    "A new patient, Ann, is \"born\". A new blockchain related to her is created."
   ]
  },
  {
   "cell_type": "code",
   "execution_count": 3,
   "metadata": {},
   "outputs": [],
   "source": [
    "Ann = Patient(\"CMVANN67T06M088Q\") # The argument is her codice fiscale"
   ]
  },
  {
   "cell_type": "markdown",
   "metadata": {},
   "source": [
    "Ann has now a personal blockchain. We can show her Genesis block here:"
   ]
  },
  {
   "cell_type": "code",
   "execution_count": 4,
   "metadata": {},
   "outputs": [
    {
     "data": {
      "text/html": [
       "<div>\n",
       "<style scoped>\n",
       "    .dataframe tbody tr th:only-of-type {\n",
       "        vertical-align: middle;\n",
       "    }\n",
       "\n",
       "    .dataframe tbody tr th {\n",
       "        vertical-align: top;\n",
       "    }\n",
       "\n",
       "    .dataframe thead th {\n",
       "        text-align: right;\n",
       "    }\n",
       "</style>\n",
       "<table border=\"1\" class=\"dataframe\">\n",
       "  <thead>\n",
       "    <tr style=\"text-align: right;\">\n",
       "      <th></th>\n",
       "      <th>Block summary</th>\n",
       "    </tr>\n",
       "  </thead>\n",
       "  <tbody>\n",
       "    <tr>\n",
       "      <td>Index</td>\n",
       "      <td>0</td>\n",
       "    </tr>\n",
       "    <tr>\n",
       "      <td>Name</td>\n",
       "      <td>CMVANN67T06M088Q</td>\n",
       "    </tr>\n",
       "    <tr>\n",
       "      <td>Timestamp</td>\n",
       "      <td>2019-12-07 14:55:44.702337</td>\n",
       "    </tr>\n",
       "    <tr>\n",
       "      <td>Kind</td>\n",
       "      <td>None</td>\n",
       "    </tr>\n",
       "    <tr>\n",
       "      <td>Data</td>\n",
       "      <td>None</td>\n",
       "    </tr>\n",
       "    <tr>\n",
       "      <td>Previous hash</td>\n",
       "      <td>0000000000000000000000000000000000000000000000...</td>\n",
       "    </tr>\n",
       "    <tr>\n",
       "      <td>Hash</td>\n",
       "      <td>e6c78816e2c4c9123c4ec4325af25444472d2fa2cdf717...</td>\n",
       "    </tr>\n",
       "  </tbody>\n",
       "</table>\n",
       "</div>"
      ],
      "text/plain": [
       "                                                   Block summary\n",
       "Index                                                          0\n",
       "Name                                            CMVANN67T06M088Q\n",
       "Timestamp                             2019-12-07 14:55:44.702337\n",
       "Kind                                                        None\n",
       "Data                                                        None\n",
       "Previous hash  0000000000000000000000000000000000000000000000...\n",
       "Hash           e6c78816e2c4c9123c4ec4325af25444472d2fa2cdf717..."
      ]
     },
     "execution_count": 4,
     "metadata": {},
     "output_type": "execute_result"
    }
   ],
   "source": [
    "Ann.get_block(0)"
   ]
  },
  {
   "cell_type": "markdown",
   "metadata": {},
   "source": [
    "One day, Ann contracts celiac disease. Celiac disease is a new disease, so we first have to create its blockchain, before being able to assign this disease to Ann."
   ]
  },
  {
   "cell_type": "code",
   "execution_count": 5,
   "metadata": {},
   "outputs": [],
   "source": [
    "celiac = Event(event=\"disease\", name=\"celiac\")"
   ]
  },
  {
   "cell_type": "markdown",
   "metadata": {},
   "source": [
    "Celiac disease has now its own blockchain that will be updated every time a new patient contracts celiac disease. We can see the genesis block of celiac disease as well:"
   ]
  },
  {
   "cell_type": "code",
   "execution_count": 6,
   "metadata": {},
   "outputs": [
    {
     "data": {
      "text/html": [
       "<div>\n",
       "<style scoped>\n",
       "    .dataframe tbody tr th:only-of-type {\n",
       "        vertical-align: middle;\n",
       "    }\n",
       "\n",
       "    .dataframe tbody tr th {\n",
       "        vertical-align: top;\n",
       "    }\n",
       "\n",
       "    .dataframe thead th {\n",
       "        text-align: right;\n",
       "    }\n",
       "</style>\n",
       "<table border=\"1\" class=\"dataframe\">\n",
       "  <thead>\n",
       "    <tr style=\"text-align: right;\">\n",
       "      <th></th>\n",
       "      <th>Block summary</th>\n",
       "    </tr>\n",
       "  </thead>\n",
       "  <tbody>\n",
       "    <tr>\n",
       "      <td>Index</td>\n",
       "      <td>0</td>\n",
       "    </tr>\n",
       "    <tr>\n",
       "      <td>Name</td>\n",
       "      <td>celiac</td>\n",
       "    </tr>\n",
       "    <tr>\n",
       "      <td>Timestamp</td>\n",
       "      <td>2019-12-07 14:55:44.936442</td>\n",
       "    </tr>\n",
       "    <tr>\n",
       "      <td>Patient</td>\n",
       "      <td>None</td>\n",
       "    </tr>\n",
       "    <tr>\n",
       "      <td>Previous hash</td>\n",
       "      <td>0000000000000000000000000000000000000000000000...</td>\n",
       "    </tr>\n",
       "    <tr>\n",
       "      <td>Hash</td>\n",
       "      <td>e0a39b4addabd5a12055dda9af79126c9388e1f353f37e...</td>\n",
       "    </tr>\n",
       "  </tbody>\n",
       "</table>\n",
       "</div>"
      ],
      "text/plain": [
       "                                                   Block summary\n",
       "Index                                                          0\n",
       "Name                                                      celiac\n",
       "Timestamp                             2019-12-07 14:55:44.936442\n",
       "Patient                                                     None\n",
       "Previous hash  0000000000000000000000000000000000000000000000...\n",
       "Hash           e0a39b4addabd5a12055dda9af79126c9388e1f353f37e..."
      ]
     },
     "execution_count": 6,
     "metadata": {},
     "output_type": "execute_result"
    }
   ],
   "source": [
    "celiac.get_block(0)"
   ]
  },
  {
   "cell_type": "markdown",
   "metadata": {},
   "source": [
    "Now we can add celiac disease to the blockchain of Ann, and vice versa."
   ]
  },
  {
   "cell_type": "code",
   "execution_count": 7,
   "metadata": {},
   "outputs": [],
   "source": [
    "add_event(event=celiac, patient=Ann)"
   ]
  },
  {
   "cell_type": "markdown",
   "metadata": {},
   "source": [
    "We can now see that Ann's blockchain contains a new block, containing the information of her new disease. On the other hand, the blockchain of the celiac disease contains a new block, with the information of the patient that has contracted it (in this case Ann)."
   ]
  },
  {
   "cell_type": "code",
   "execution_count": 8,
   "metadata": {},
   "outputs": [
    {
     "data": {
      "text/html": [
       "<div>\n",
       "<style scoped>\n",
       "    .dataframe tbody tr th:only-of-type {\n",
       "        vertical-align: middle;\n",
       "    }\n",
       "\n",
       "    .dataframe tbody tr th {\n",
       "        vertical-align: top;\n",
       "    }\n",
       "\n",
       "    .dataframe thead th {\n",
       "        text-align: right;\n",
       "    }\n",
       "</style>\n",
       "<table border=\"1\" class=\"dataframe\">\n",
       "  <thead>\n",
       "    <tr style=\"text-align: right;\">\n",
       "      <th></th>\n",
       "      <th>Block summary</th>\n",
       "    </tr>\n",
       "  </thead>\n",
       "  <tbody>\n",
       "    <tr>\n",
       "      <td>Index</td>\n",
       "      <td>1</td>\n",
       "    </tr>\n",
       "    <tr>\n",
       "      <td>Name</td>\n",
       "      <td>CMVANN67T06M088Q</td>\n",
       "    </tr>\n",
       "    <tr>\n",
       "      <td>Timestamp</td>\n",
       "      <td>2019-12-07 14:55:45.070183</td>\n",
       "    </tr>\n",
       "    <tr>\n",
       "      <td>Kind</td>\n",
       "      <td>disease</td>\n",
       "    </tr>\n",
       "    <tr>\n",
       "      <td>Data</td>\n",
       "      <td>celiac</td>\n",
       "    </tr>\n",
       "    <tr>\n",
       "      <td>Previous hash</td>\n",
       "      <td>e6c78816e2c4c9123c4ec4325af25444472d2fa2cdf717...</td>\n",
       "    </tr>\n",
       "    <tr>\n",
       "      <td>Hash</td>\n",
       "      <td>98b58e3c5f7c42f35de1f671bd19f9c8194cbdc1faa1ef...</td>\n",
       "    </tr>\n",
       "  </tbody>\n",
       "</table>\n",
       "</div>"
      ],
      "text/plain": [
       "                                                   Block summary\n",
       "Index                                                          1\n",
       "Name                                            CMVANN67T06M088Q\n",
       "Timestamp                             2019-12-07 14:55:45.070183\n",
       "Kind                                                     disease\n",
       "Data                                                      celiac\n",
       "Previous hash  e6c78816e2c4c9123c4ec4325af25444472d2fa2cdf717...\n",
       "Hash           98b58e3c5f7c42f35de1f671bd19f9c8194cbdc1faa1ef..."
      ]
     },
     "execution_count": 8,
     "metadata": {},
     "output_type": "execute_result"
    }
   ],
   "source": [
    "Ann.get_block(1)"
   ]
  },
  {
   "cell_type": "code",
   "execution_count": 9,
   "metadata": {},
   "outputs": [
    {
     "data": {
      "text/html": [
       "<div>\n",
       "<style scoped>\n",
       "    .dataframe tbody tr th:only-of-type {\n",
       "        vertical-align: middle;\n",
       "    }\n",
       "\n",
       "    .dataframe tbody tr th {\n",
       "        vertical-align: top;\n",
       "    }\n",
       "\n",
       "    .dataframe thead th {\n",
       "        text-align: right;\n",
       "    }\n",
       "</style>\n",
       "<table border=\"1\" class=\"dataframe\">\n",
       "  <thead>\n",
       "    <tr style=\"text-align: right;\">\n",
       "      <th></th>\n",
       "      <th>Block summary</th>\n",
       "    </tr>\n",
       "  </thead>\n",
       "  <tbody>\n",
       "    <tr>\n",
       "      <td>Index</td>\n",
       "      <td>1</td>\n",
       "    </tr>\n",
       "    <tr>\n",
       "      <td>Name</td>\n",
       "      <td>celiac</td>\n",
       "    </tr>\n",
       "    <tr>\n",
       "      <td>Timestamp</td>\n",
       "      <td>2019-12-07 14:55:45.070135</td>\n",
       "    </tr>\n",
       "    <tr>\n",
       "      <td>Patient</td>\n",
       "      <td>CMVANN67T06M088Q</td>\n",
       "    </tr>\n",
       "    <tr>\n",
       "      <td>Previous hash</td>\n",
       "      <td>e0a39b4addabd5a12055dda9af79126c9388e1f353f37e...</td>\n",
       "    </tr>\n",
       "    <tr>\n",
       "      <td>Hash</td>\n",
       "      <td>4a2401761a92ca8e811d41dd83e72e369c6c3a37d9bda4...</td>\n",
       "    </tr>\n",
       "  </tbody>\n",
       "</table>\n",
       "</div>"
      ],
      "text/plain": [
       "                                                   Block summary\n",
       "Index                                                          1\n",
       "Name                                                      celiac\n",
       "Timestamp                             2019-12-07 14:55:45.070135\n",
       "Patient                                         CMVANN67T06M088Q\n",
       "Previous hash  e0a39b4addabd5a12055dda9af79126c9388e1f353f37e...\n",
       "Hash           4a2401761a92ca8e811d41dd83e72e369c6c3a37d9bda4..."
      ]
     },
     "execution_count": 9,
     "metadata": {},
     "output_type": "execute_result"
    }
   ],
   "source": [
    "celiac.get_block(1)"
   ]
  },
  {
   "cell_type": "markdown",
   "metadata": {},
   "source": [
    "We can see how many people have celiac disease by simply running the following line of code:"
   ]
  },
  {
   "cell_type": "code",
   "execution_count": 10,
   "metadata": {},
   "outputs": [
    {
     "data": {
      "text/plain": [
       "1"
      ]
     },
     "execution_count": 10,
     "metadata": {},
     "output_type": "execute_result"
    }
   ],
   "source": [
    "celiac.get_chain_size()"
   ]
  },
  {
   "cell_type": "code",
   "execution_count": 11,
   "metadata": {},
   "outputs": [
    {
     "data": {
      "text/html": [
       "<div>\n",
       "<style scoped>\n",
       "    .dataframe tbody tr th:only-of-type {\n",
       "        vertical-align: middle;\n",
       "    }\n",
       "\n",
       "    .dataframe tbody tr th {\n",
       "        vertical-align: top;\n",
       "    }\n",
       "\n",
       "    .dataframe thead th {\n",
       "        text-align: right;\n",
       "    }\n",
       "</style>\n",
       "<table border=\"1\" class=\"dataframe\">\n",
       "  <thead>\n",
       "    <tr style=\"text-align: right;\">\n",
       "      <th></th>\n",
       "      <th>Name</th>\n",
       "      <th>Timestamp</th>\n",
       "      <th>Kind</th>\n",
       "      <th>Data</th>\n",
       "      <th>Previous hash</th>\n",
       "      <th>Hash</th>\n",
       "    </tr>\n",
       "    <tr>\n",
       "      <th>Index</th>\n",
       "      <th></th>\n",
       "      <th></th>\n",
       "      <th></th>\n",
       "      <th></th>\n",
       "      <th></th>\n",
       "      <th></th>\n",
       "    </tr>\n",
       "  </thead>\n",
       "  <tbody>\n",
       "    <tr>\n",
       "      <td>0</td>\n",
       "      <td>CMVANN67T06M088Q</td>\n",
       "      <td>2019-12-07 14:55:44.702337</td>\n",
       "      <td>None</td>\n",
       "      <td>None</td>\n",
       "      <td>0000000000000000000000000000000000000000000000...</td>\n",
       "      <td>e6c78816e2c4c9123c4ec4325af25444472d2fa2cdf717...</td>\n",
       "    </tr>\n",
       "    <tr>\n",
       "      <td>1</td>\n",
       "      <td>CMVANN67T06M088Q</td>\n",
       "      <td>2019-12-07 14:55:45.070183</td>\n",
       "      <td>disease</td>\n",
       "      <td>celiac</td>\n",
       "      <td>e6c78816e2c4c9123c4ec4325af25444472d2fa2cdf717...</td>\n",
       "      <td>98b58e3c5f7c42f35de1f671bd19f9c8194cbdc1faa1ef...</td>\n",
       "    </tr>\n",
       "  </tbody>\n",
       "</table>\n",
       "</div>"
      ],
      "text/plain": [
       "                   Name                  Timestamp     Kind    Data  \\\n",
       "Index                                                                 \n",
       "0      CMVANN67T06M088Q 2019-12-07 14:55:44.702337     None    None   \n",
       "1      CMVANN67T06M088Q 2019-12-07 14:55:45.070183  disease  celiac   \n",
       "\n",
       "                                           Previous hash  \\\n",
       "Index                                                      \n",
       "0      0000000000000000000000000000000000000000000000...   \n",
       "1      e6c78816e2c4c9123c4ec4325af25444472d2fa2cdf717...   \n",
       "\n",
       "                                                    Hash  \n",
       "Index                                                     \n",
       "0      e6c78816e2c4c9123c4ec4325af25444472d2fa2cdf717...  \n",
       "1      98b58e3c5f7c42f35de1f671bd19f9c8194cbdc1faa1ef...  "
      ]
     },
     "execution_count": 11,
     "metadata": {},
     "output_type": "execute_result"
    }
   ],
   "source": [
    "Ann.get_chain()"
   ]
  },
  {
   "cell_type": "code",
   "execution_count": 18,
   "metadata": {},
   "outputs": [
    {
     "data": {
      "text/html": [
       "<div>\n",
       "<style scoped>\n",
       "    .dataframe tbody tr th:only-of-type {\n",
       "        vertical-align: middle;\n",
       "    }\n",
       "\n",
       "    .dataframe tbody tr th {\n",
       "        vertical-align: top;\n",
       "    }\n",
       "\n",
       "    .dataframe thead th {\n",
       "        text-align: right;\n",
       "    }\n",
       "</style>\n",
       "<table border=\"1\" class=\"dataframe\">\n",
       "  <thead>\n",
       "    <tr style=\"text-align: right;\">\n",
       "      <th></th>\n",
       "      <th>Name</th>\n",
       "      <th>Timestamp</th>\n",
       "      <th>Kind</th>\n",
       "      <th>Data</th>\n",
       "      <th>Previous hash</th>\n",
       "      <th>Hash</th>\n",
       "    </tr>\n",
       "    <tr>\n",
       "      <th>Index</th>\n",
       "      <th></th>\n",
       "      <th></th>\n",
       "      <th></th>\n",
       "      <th></th>\n",
       "      <th></th>\n",
       "      <th></th>\n",
       "    </tr>\n",
       "  </thead>\n",
       "  <tbody>\n",
       "    <tr>\n",
       "      <td>0</td>\n",
       "      <td>CMVANN67T06M088Q</td>\n",
       "      <td>2019-12-07 14:55:44.702337</td>\n",
       "      <td>None</td>\n",
       "      <td>None</td>\n",
       "      <td>0000000000000000000000000000000000000000000000...</td>\n",
       "      <td>e6c78816e2c4c9123c4ec4325af25444472d2fa2cdf717...</td>\n",
       "    </tr>\n",
       "    <tr>\n",
       "      <td>1</td>\n",
       "      <td>CMVANN67T06M088Q</td>\n",
       "      <td>2019-12-07 14:55:45.070183</td>\n",
       "      <td>disease</td>\n",
       "      <td>celiac</td>\n",
       "      <td>e6c78816e2c4c9123c4ec4325af25444472d2fa2cdf717...</td>\n",
       "      <td>98b58e3c5f7c42f35de1f671bd19f9c8194cbdc1faa1ef...</td>\n",
       "    </tr>\n",
       "  </tbody>\n",
       "</table>\n",
       "</div>"
      ],
      "text/plain": [
       "                   Name                  Timestamp     Kind    Data  \\\n",
       "Index                                                                 \n",
       "0      CMVANN67T06M088Q 2019-12-07 14:55:44.702337     None    None   \n",
       "1      CMVANN67T06M088Q 2019-12-07 14:55:45.070183  disease  celiac   \n",
       "\n",
       "                                           Previous hash  \\\n",
       "Index                                                      \n",
       "0      0000000000000000000000000000000000000000000000...   \n",
       "1      e6c78816e2c4c9123c4ec4325af25444472d2fa2cdf717...   \n",
       "\n",
       "                                                    Hash  \n",
       "Index                                                     \n",
       "0      e6c78816e2c4c9123c4ec4325af25444472d2fa2cdf717...  \n",
       "1      98b58e3c5f7c42f35de1f671bd19f9c8194cbdc1faa1ef...  "
      ]
     },
     "execution_count": 18,
     "metadata": {},
     "output_type": "execute_result"
    }
   ],
   "source": [
    "Ann.get_chain()"
   ]
  },
  {
   "cell_type": "code",
   "execution_count": 22,
   "metadata": {},
   "outputs": [],
   "source": [
    "Ann.blocks[1].previous_hash = \"ciao\""
   ]
  },
  {
   "cell_type": "code",
   "execution_count": null,
   "metadata": {
    "pycharm": {
     "name": "#%%\n"
    }
   },
   "outputs": [],
   "source": [
    "celiac.get_chain()"
   ]
  },
  {
   "cell_type": "code",
   "execution_count": 24,
   "metadata": {},
   "outputs": [
    {
     "data": {
      "text/html": [
       "<div>\n",
       "<style scoped>\n",
       "    .dataframe tbody tr th:only-of-type {\n",
       "        vertical-align: middle;\n",
       "    }\n",
       "\n",
       "    .dataframe tbody tr th {\n",
       "        vertical-align: top;\n",
       "    }\n",
       "\n",
       "    .dataframe thead th {\n",
       "        text-align: right;\n",
       "    }\n",
       "</style>\n",
       "<table border=\"1\" class=\"dataframe\">\n",
       "  <thead>\n",
       "    <tr style=\"text-align: right;\">\n",
       "      <th></th>\n",
       "      <th>Name</th>\n",
       "      <th>Timestamp</th>\n",
       "      <th>Patient</th>\n",
       "      <th>Previous hash</th>\n",
       "      <th>Hash</th>\n",
       "    </tr>\n",
       "    <tr>\n",
       "      <th>Index</th>\n",
       "      <th></th>\n",
       "      <th></th>\n",
       "      <th></th>\n",
       "      <th></th>\n",
       "      <th></th>\n",
       "    </tr>\n",
       "  </thead>\n",
       "  <tbody>\n",
       "    <tr>\n",
       "      <td>0</td>\n",
       "      <td>celiac</td>\n",
       "      <td>2019-12-07 14:55:44.936442</td>\n",
       "      <td>None</td>\n",
       "      <td>0000000000000000000000000000000000000000000000...</td>\n",
       "      <td>e0a39b4addabd5a12055dda9af79126c9388e1f353f37e...</td>\n",
       "    </tr>\n",
       "    <tr>\n",
       "      <td>1</td>\n",
       "      <td>celiac</td>\n",
       "      <td>2019-12-07 14:55:45.070135</td>\n",
       "      <td>CMVANN67T06M088Q</td>\n",
       "      <td>e0a39b4addabd5a12055dda9af79126c9388e1f353f37e...</td>\n",
       "      <td>4a2401761a92ca8e811d41dd83e72e369c6c3a37d9bda4...</td>\n",
       "    </tr>\n",
       "  </tbody>\n",
       "</table>\n",
       "</div>"
      ],
      "text/plain": [
       "         Name                  Timestamp           Patient  \\\n",
       "Index                                                        \n",
       "0      celiac 2019-12-07 14:55:44.936442              None   \n",
       "1      celiac 2019-12-07 14:55:45.070135  CMVANN67T06M088Q   \n",
       "\n",
       "                                           Previous hash  \\\n",
       "Index                                                      \n",
       "0      0000000000000000000000000000000000000000000000...   \n",
       "1      e0a39b4addabd5a12055dda9af79126c9388e1f353f37e...   \n",
       "\n",
       "                                                    Hash  \n",
       "Index                                                     \n",
       "0      e0a39b4addabd5a12055dda9af79126c9388e1f353f37e...  \n",
       "1      4a2401761a92ca8e811d41dd83e72e369c6c3a37d9bda4...  "
      ]
     },
     "execution_count": 24,
     "metadata": {},
     "output_type": "execute_result"
    }
   ],
   "source": [
    "import pandas as pd\n",
    "chain = pd.DataFrame()\n",
    "chain.append(Ann.blocks[1].summary().T)"
   ]
  },
  {
   "cell_type": "code",
   "execution_count": 14,
   "metadata": {},
   "outputs": [
    {
     "data": {
      "text/html": [
       "<div>\n",
       "<style scoped>\n",
       "    .dataframe tbody tr th:only-of-type {\n",
       "        vertical-align: middle;\n",
       "    }\n",
       "\n",
       "    .dataframe tbody tr th {\n",
       "        vertical-align: top;\n",
       "    }\n",
       "\n",
       "    .dataframe thead th {\n",
       "        text-align: right;\n",
       "    }\n",
       "</style>\n",
       "<table border=\"1\" class=\"dataframe\">\n",
       "  <thead>\n",
       "    <tr style=\"text-align: right;\">\n",
       "      <th></th>\n",
       "      <th>Index</th>\n",
       "      <th>Name</th>\n",
       "      <th>Timestamp</th>\n",
       "      <th>Kind</th>\n",
       "      <th>Data</th>\n",
       "      <th>Previous hash</th>\n",
       "      <th>Hash</th>\n",
       "    </tr>\n",
       "  </thead>\n",
       "  <tbody>\n",
       "    <tr>\n",
       "      <td>Block summary</td>\n",
       "      <td>1</td>\n",
       "      <td>CMVANN67T06M088Q</td>\n",
       "      <td>2019-12-07 14:55:45.070183</td>\n",
       "      <td>disease</td>\n",
       "      <td>celiac</td>\n",
       "      <td>e6c78816e2c4c9123c4ec4325af25444472d2fa2cdf717...</td>\n",
       "      <td>98b58e3c5f7c42f35de1f671bd19f9c8194cbdc1faa1ef...</td>\n",
       "    </tr>\n",
       "  </tbody>\n",
       "</table>\n",
       "</div>"
      ],
      "text/plain": [
       "              Index              Name                  Timestamp     Kind  \\\n",
       "Block summary     1  CMVANN67T06M088Q 2019-12-07 14:55:45.070183  disease   \n",
       "\n",
       "                 Data                                      Previous hash  \\\n",
       "Block summary  celiac  e6c78816e2c4c9123c4ec4325af25444472d2fa2cdf717...   \n",
       "\n",
       "                                                            Hash  \n",
       "Block summary  98b58e3c5f7c42f35de1f671bd19f9c8194cbdc1faa1ef...  "
      ]
     },
     "execution_count": 14,
     "metadata": {},
     "output_type": "execute_result"
    }
   ],
   "source": [
    "import pandas as pd\n",
    "chain = pd.DataFrame()\n",
    "chain.append(Ann.blocks[1].summary().T)"
   ]
  }
 ],
 "metadata": {
  "kernelspec": {
   "display_name": "Python 3",
   "language": "python",
   "name": "python3"
  },
  "language_info": {
   "codemirror_mode": {
    "name": "ipython",
    "version": 3
   },
   "file_extension": ".py",
   "mimetype": "text/x-python",
   "name": "python",
   "nbconvert_exporter": "python",
   "pygments_lexer": "ipython3",
   "version": "3.7.4"
  },
  "pycharm": {
   "stem_cell": {
    "cell_type": "raw",
    "metadata": {
     "collapsed": false
    },
    "source": []
   }
  }
 },
 "nbformat": 4,
 "nbformat_minor": 2
}
