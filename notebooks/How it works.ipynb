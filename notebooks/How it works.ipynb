{
 "cells": [
  {
   "cell_type": "markdown",
   "metadata": {},
   "source": [
    "Move to the `src` folder first."
   ]
  },
  {
   "cell_type": "code",
   "execution_count": 1,
   "metadata": {},
   "outputs": [
    {
     "name": "stdout",
     "output_type": "stream",
     "text": [
      "/home/matteo/PycharmProjects/HealthcareBlockchain/src\n"
     ]
    }
   ],
   "source": [
    "cd ../src"
   ]
  },
  {
   "cell_type": "code",
   "execution_count": 2,
   "metadata": {},
   "outputs": [],
   "source": [
    "from patient import Patient\n",
    "from event import Event\n",
    "from blockchain import add_event"
   ]
  },
  {
   "cell_type": "markdown",
   "metadata": {},
   "source": [
    "A new patient, Ann, is \"born\". A new blockchain related to her is created."
   ]
  },
  {
   "cell_type": "code",
   "execution_count": 3,
   "metadata": {},
   "outputs": [],
   "source": [
    "Ann = Patient(\"CMVANN67T06M088Q\") # The argument is her codice fiscale"
   ]
  },
  {
   "cell_type": "markdown",
   "metadata": {},
   "source": [
    "Ann has now a personal blockchain. We can show her Genesis block here:"
   ]
  },
  {
   "cell_type": "code",
   "execution_count": 4,
   "metadata": {},
   "outputs": [
    {
     "data": {
      "text/html": [
       "<div>\n",
       "<style scoped>\n",
       "    .dataframe tbody tr th:only-of-type {\n",
       "        vertical-align: middle;\n",
       "    }\n",
       "\n",
       "    .dataframe tbody tr th {\n",
       "        vertical-align: top;\n",
       "    }\n",
       "\n",
       "    .dataframe thead th {\n",
       "        text-align: right;\n",
       "    }\n",
       "</style>\n",
       "<table border=\"1\" class=\"dataframe\">\n",
       "  <thead>\n",
       "    <tr style=\"text-align: right;\">\n",
       "      <th></th>\n",
       "      <th>Block summary</th>\n",
       "    </tr>\n",
       "  </thead>\n",
       "  <tbody>\n",
       "    <tr>\n",
       "      <td>Index</td>\n",
       "      <td>0</td>\n",
       "    </tr>\n",
       "    <tr>\n",
       "      <td>Name</td>\n",
       "      <td>CMVANN67T06M088Q</td>\n",
       "    </tr>\n",
       "    <tr>\n",
       "      <td>Timestamp</td>\n",
       "      <td>2019-12-02 17:24:38.391712</td>\n",
       "    </tr>\n",
       "    <tr>\n",
       "      <td>Kind</td>\n",
       "      <td>None</td>\n",
       "    </tr>\n",
       "    <tr>\n",
       "      <td>Data</td>\n",
       "      <td>None</td>\n",
       "    </tr>\n",
       "    <tr>\n",
       "      <td>Previous hash</td>\n",
       "      <td>0000000000000000000000000000000000000000000000...</td>\n",
       "    </tr>\n",
       "    <tr>\n",
       "      <td>Hash</td>\n",
       "      <td>0b0ea5f839947909803d931ad64fee8303a8581f339e5b...</td>\n",
       "    </tr>\n",
       "  </tbody>\n",
       "</table>\n",
       "</div>"
      ],
      "text/plain": [
       "                                                   Block summary\n",
       "Index                                                          0\n",
       "Name                                            CMVANN67T06M088Q\n",
       "Timestamp                             2019-12-02 17:24:38.391712\n",
       "Kind                                                        None\n",
       "Data                                                        None\n",
       "Previous hash  0000000000000000000000000000000000000000000000...\n",
       "Hash           0b0ea5f839947909803d931ad64fee8303a8581f339e5b..."
      ]
     },
     "execution_count": 4,
     "metadata": {},
     "output_type": "execute_result"
    }
   ],
   "source": [
    "Ann.blocks[0].summary()"
   ]
  },
  {
   "cell_type": "markdown",
   "metadata": {},
   "source": [
    "One day, Ann contracts celiac disease. Celiac disease is a new disease, so we first have to create its blockchain, before being able to assign this disease to Ann."
   ]
  },
  {
   "cell_type": "code",
   "execution_count": 5,
   "metadata": {},
   "outputs": [],
   "source": [
    "celiac = Event(event=\"disease\", name=\"celiac\")"
   ]
  },
  {
   "cell_type": "markdown",
   "metadata": {},
   "source": [
    "Celiac disease has now its own blockchain that will be updated every time a new patient contracts celiac disease. We can see the genesis block of celiac disease as well:"
   ]
  },
  {
   "cell_type": "code",
   "execution_count": 6,
   "metadata": {},
   "outputs": [
    {
     "data": {
      "text/html": [
       "<div>\n",
       "<style scoped>\n",
       "    .dataframe tbody tr th:only-of-type {\n",
       "        vertical-align: middle;\n",
       "    }\n",
       "\n",
       "    .dataframe tbody tr th {\n",
       "        vertical-align: top;\n",
       "    }\n",
       "\n",
       "    .dataframe thead th {\n",
       "        text-align: right;\n",
       "    }\n",
       "</style>\n",
       "<table border=\"1\" class=\"dataframe\">\n",
       "  <thead>\n",
       "    <tr style=\"text-align: right;\">\n",
       "      <th></th>\n",
       "      <th>Block summary</th>\n",
       "    </tr>\n",
       "  </thead>\n",
       "  <tbody>\n",
       "    <tr>\n",
       "      <td>Index</td>\n",
       "      <td>0</td>\n",
       "    </tr>\n",
       "    <tr>\n",
       "      <td>Name</td>\n",
       "      <td>celiac</td>\n",
       "    </tr>\n",
       "    <tr>\n",
       "      <td>Timestamp</td>\n",
       "      <td>2019-12-02 17:27:55.016006</td>\n",
       "    </tr>\n",
       "    <tr>\n",
       "      <td>Patient</td>\n",
       "      <td>None</td>\n",
       "    </tr>\n",
       "    <tr>\n",
       "      <td>Previous hash</td>\n",
       "      <td>0000000000000000000000000000000000000000000000...</td>\n",
       "    </tr>\n",
       "    <tr>\n",
       "      <td>Hash</td>\n",
       "      <td>957fc603ce1f08890f2f492f6b3cb3847da1fbd8f0fef3...</td>\n",
       "    </tr>\n",
       "  </tbody>\n",
       "</table>\n",
       "</div>"
      ],
      "text/plain": [
       "                                                   Block summary\n",
       "Index                                                          0\n",
       "Name                                                      celiac\n",
       "Timestamp                             2019-12-02 17:27:55.016006\n",
       "Patient                                                     None\n",
       "Previous hash  0000000000000000000000000000000000000000000000...\n",
       "Hash           957fc603ce1f08890f2f492f6b3cb3847da1fbd8f0fef3..."
      ]
     },
     "execution_count": 6,
     "metadata": {},
     "output_type": "execute_result"
    }
   ],
   "source": [
    "celiac.blocks[0].summary()"
   ]
  },
  {
   "cell_type": "markdown",
   "metadata": {},
   "source": [
    "Now we can add celiac disease to the blockchain of Ann, and vice versa."
   ]
  },
  {
   "cell_type": "code",
   "execution_count": 7,
   "metadata": {},
   "outputs": [],
   "source": [
    "add_event(event=celiac, patient=Ann)"
   ]
  },
  {
   "cell_type": "markdown",
   "metadata": {},
   "source": [
    "We can now see that Ann's blockchain contains a new block, containing the information of her new disease. On the other hand, the blockchain of the celiac disease contains a new block, with the information of the patient that has contracted it (in this case Ann)."
   ]
  },
  {
   "cell_type": "code",
   "execution_count": 8,
   "metadata": {},
   "outputs": [
    {
     "data": {
      "text/html": [
       "<div>\n",
       "<style scoped>\n",
       "    .dataframe tbody tr th:only-of-type {\n",
       "        vertical-align: middle;\n",
       "    }\n",
       "\n",
       "    .dataframe tbody tr th {\n",
       "        vertical-align: top;\n",
       "    }\n",
       "\n",
       "    .dataframe thead th {\n",
       "        text-align: right;\n",
       "    }\n",
       "</style>\n",
       "<table border=\"1\" class=\"dataframe\">\n",
       "  <thead>\n",
       "    <tr style=\"text-align: right;\">\n",
       "      <th></th>\n",
       "      <th>Block summary</th>\n",
       "    </tr>\n",
       "  </thead>\n",
       "  <tbody>\n",
       "    <tr>\n",
       "      <td>Index</td>\n",
       "      <td>1</td>\n",
       "    </tr>\n",
       "    <tr>\n",
       "      <td>Name</td>\n",
       "      <td>CMVANN67T06M088Q</td>\n",
       "    </tr>\n",
       "    <tr>\n",
       "      <td>Timestamp</td>\n",
       "      <td>2019-12-02 17:29:33.799935</td>\n",
       "    </tr>\n",
       "    <tr>\n",
       "      <td>Kind</td>\n",
       "      <td>disease</td>\n",
       "    </tr>\n",
       "    <tr>\n",
       "      <td>Data</td>\n",
       "      <td>celiac</td>\n",
       "    </tr>\n",
       "    <tr>\n",
       "      <td>Previous hash</td>\n",
       "      <td>0b0ea5f839947909803d931ad64fee8303a8581f339e5b...</td>\n",
       "    </tr>\n",
       "    <tr>\n",
       "      <td>Hash</td>\n",
       "      <td>296dc2f54e10a9cddc976acdf88cfd2b69a718b8e3357e...</td>\n",
       "    </tr>\n",
       "  </tbody>\n",
       "</table>\n",
       "</div>"
      ],
      "text/plain": [
       "                                                   Block summary\n",
       "Index                                                          1\n",
       "Name                                            CMVANN67T06M088Q\n",
       "Timestamp                             2019-12-02 17:29:33.799935\n",
       "Kind                                                     disease\n",
       "Data                                                      celiac\n",
       "Previous hash  0b0ea5f839947909803d931ad64fee8303a8581f339e5b...\n",
       "Hash           296dc2f54e10a9cddc976acdf88cfd2b69a718b8e3357e..."
      ]
     },
     "execution_count": 8,
     "metadata": {},
     "output_type": "execute_result"
    }
   ],
   "source": [
    "Ann.blocks[1].summary()"
   ]
  },
  {
   "cell_type": "code",
   "execution_count": 9,
   "metadata": {},
   "outputs": [
    {
     "data": {
      "text/html": [
       "<div>\n",
       "<style scoped>\n",
       "    .dataframe tbody tr th:only-of-type {\n",
       "        vertical-align: middle;\n",
       "    }\n",
       "\n",
       "    .dataframe tbody tr th {\n",
       "        vertical-align: top;\n",
       "    }\n",
       "\n",
       "    .dataframe thead th {\n",
       "        text-align: right;\n",
       "    }\n",
       "</style>\n",
       "<table border=\"1\" class=\"dataframe\">\n",
       "  <thead>\n",
       "    <tr style=\"text-align: right;\">\n",
       "      <th></th>\n",
       "      <th>Block summary</th>\n",
       "    </tr>\n",
       "  </thead>\n",
       "  <tbody>\n",
       "    <tr>\n",
       "      <td>Index</td>\n",
       "      <td>1</td>\n",
       "    </tr>\n",
       "    <tr>\n",
       "      <td>Name</td>\n",
       "      <td>celiac</td>\n",
       "    </tr>\n",
       "    <tr>\n",
       "      <td>Timestamp</td>\n",
       "      <td>2019-12-02 17:29:33.799899</td>\n",
       "    </tr>\n",
       "    <tr>\n",
       "      <td>Patient</td>\n",
       "      <td>CMVANN67T06M088Q</td>\n",
       "    </tr>\n",
       "    <tr>\n",
       "      <td>Previous hash</td>\n",
       "      <td>957fc603ce1f08890f2f492f6b3cb3847da1fbd8f0fef3...</td>\n",
       "    </tr>\n",
       "    <tr>\n",
       "      <td>Hash</td>\n",
       "      <td>2928ba254535bf5f703875e3e21352b4d01157c39dd790...</td>\n",
       "    </tr>\n",
       "  </tbody>\n",
       "</table>\n",
       "</div>"
      ],
      "text/plain": [
       "                                                   Block summary\n",
       "Index                                                          1\n",
       "Name                                                      celiac\n",
       "Timestamp                             2019-12-02 17:29:33.799899\n",
       "Patient                                         CMVANN67T06M088Q\n",
       "Previous hash  957fc603ce1f08890f2f492f6b3cb3847da1fbd8f0fef3...\n",
       "Hash           2928ba254535bf5f703875e3e21352b4d01157c39dd790..."
      ]
     },
     "execution_count": 9,
     "metadata": {},
     "output_type": "execute_result"
    }
   ],
   "source": [
    "celiac.blocks[1].summary()"
   ]
  },
  {
   "cell_type": "markdown",
   "metadata": {},
   "source": [
    "We can see how many people have celiac disease by simply running the following line of code:"
   ]
  },
  {
   "cell_type": "code",
   "execution_count": 10,
   "metadata": {},
   "outputs": [
    {
     "data": {
      "text/plain": [
       "1"
      ]
     },
     "execution_count": 10,
     "metadata": {},
     "output_type": "execute_result"
    }
   ],
   "source": [
    "celiac.get_chain_size()"
   ]
  }
 ],
 "metadata": {
  "kernelspec": {
   "display_name": "Python 3",
   "language": "python",
   "name": "python3"
  },
  "language_info": {
   "codemirror_mode": {
    "name": "ipython",
    "version": 3
   },
   "file_extension": ".py",
   "mimetype": "text/x-python",
   "name": "python",
   "nbconvert_exporter": "python",
   "pygments_lexer": "ipython3",
   "version": "3.7.4"
  }
 },
 "nbformat": 4,
 "nbformat_minor": 2
}
